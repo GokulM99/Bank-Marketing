{
 "cells": [
  {
   "cell_type": "code",
   "execution_count": 1,
   "id": "ec88f7c9",
   "metadata": {},
   "outputs": [],
   "source": [
    "import pandas as pd\n",
    "import numpy as np\n",
    "import matplotlib.pyplot as plt\n",
    "import seaborn as sns\n",
    "import warnings\n",
    "warnings.filterwarnings('ignore')\n",
    "from scipy import stats"
   ]
  },
  {
   "cell_type": "code",
   "execution_count": 2,
   "id": "3d1b00b0",
   "metadata": {},
   "outputs": [
    {
     "data": {
      "text/html": [
       "<div>\n",
       "<style scoped>\n",
       "    .dataframe tbody tr th:only-of-type {\n",
       "        vertical-align: middle;\n",
       "    }\n",
       "\n",
       "    .dataframe tbody tr th {\n",
       "        vertical-align: top;\n",
       "    }\n",
       "\n",
       "    .dataframe thead th {\n",
       "        text-align: right;\n",
       "    }\n",
       "</style>\n",
       "<table border=\"1\" class=\"dataframe\">\n",
       "  <thead>\n",
       "    <tr style=\"text-align: right;\">\n",
       "      <th></th>\n",
       "      <th>age</th>\n",
       "      <th>job</th>\n",
       "      <th>marital</th>\n",
       "      <th>education</th>\n",
       "      <th>default</th>\n",
       "      <th>housing</th>\n",
       "      <th>loan</th>\n",
       "      <th>contact</th>\n",
       "      <th>month</th>\n",
       "      <th>day_of_week</th>\n",
       "      <th>...</th>\n",
       "      <th>campaign</th>\n",
       "      <th>pdays</th>\n",
       "      <th>previous</th>\n",
       "      <th>poutcome</th>\n",
       "      <th>emp.var.rate</th>\n",
       "      <th>cons.price.idx</th>\n",
       "      <th>cons.conf.idx</th>\n",
       "      <th>euribor3m</th>\n",
       "      <th>nr.employed</th>\n",
       "      <th>y</th>\n",
       "    </tr>\n",
       "  </thead>\n",
       "  <tbody>\n",
       "    <tr>\n",
       "      <th>0</th>\n",
       "      <td>56</td>\n",
       "      <td>housemaid</td>\n",
       "      <td>married</td>\n",
       "      <td>basic.4y</td>\n",
       "      <td>no</td>\n",
       "      <td>no</td>\n",
       "      <td>no</td>\n",
       "      <td>telephone</td>\n",
       "      <td>may</td>\n",
       "      <td>mon</td>\n",
       "      <td>...</td>\n",
       "      <td>1</td>\n",
       "      <td>999</td>\n",
       "      <td>0</td>\n",
       "      <td>nonexistent</td>\n",
       "      <td>1.1</td>\n",
       "      <td>93.994</td>\n",
       "      <td>-36.4</td>\n",
       "      <td>4.857</td>\n",
       "      <td>5191.0</td>\n",
       "      <td>no</td>\n",
       "    </tr>\n",
       "    <tr>\n",
       "      <th>1</th>\n",
       "      <td>57</td>\n",
       "      <td>services</td>\n",
       "      <td>married</td>\n",
       "      <td>high.school</td>\n",
       "      <td>unknown</td>\n",
       "      <td>no</td>\n",
       "      <td>no</td>\n",
       "      <td>telephone</td>\n",
       "      <td>may</td>\n",
       "      <td>mon</td>\n",
       "      <td>...</td>\n",
       "      <td>1</td>\n",
       "      <td>999</td>\n",
       "      <td>0</td>\n",
       "      <td>nonexistent</td>\n",
       "      <td>1.1</td>\n",
       "      <td>93.994</td>\n",
       "      <td>-36.4</td>\n",
       "      <td>4.857</td>\n",
       "      <td>5191.0</td>\n",
       "      <td>no</td>\n",
       "    </tr>\n",
       "    <tr>\n",
       "      <th>2</th>\n",
       "      <td>37</td>\n",
       "      <td>services</td>\n",
       "      <td>married</td>\n",
       "      <td>high.school</td>\n",
       "      <td>no</td>\n",
       "      <td>yes</td>\n",
       "      <td>no</td>\n",
       "      <td>telephone</td>\n",
       "      <td>may</td>\n",
       "      <td>mon</td>\n",
       "      <td>...</td>\n",
       "      <td>1</td>\n",
       "      <td>999</td>\n",
       "      <td>0</td>\n",
       "      <td>nonexistent</td>\n",
       "      <td>1.1</td>\n",
       "      <td>93.994</td>\n",
       "      <td>-36.4</td>\n",
       "      <td>4.857</td>\n",
       "      <td>5191.0</td>\n",
       "      <td>no</td>\n",
       "    </tr>\n",
       "  </tbody>\n",
       "</table>\n",
       "<p>3 rows × 21 columns</p>\n",
       "</div>"
      ],
      "text/plain": [
       "   age        job  marital    education  default housing loan    contact  \\\n",
       "0   56  housemaid  married     basic.4y       no      no   no  telephone   \n",
       "1   57   services  married  high.school  unknown      no   no  telephone   \n",
       "2   37   services  married  high.school       no     yes   no  telephone   \n",
       "\n",
       "  month day_of_week  ...  campaign  pdays  previous     poutcome emp.var.rate  \\\n",
       "0   may         mon  ...         1    999         0  nonexistent          1.1   \n",
       "1   may         mon  ...         1    999         0  nonexistent          1.1   \n",
       "2   may         mon  ...         1    999         0  nonexistent          1.1   \n",
       "\n",
       "   cons.price.idx  cons.conf.idx  euribor3m  nr.employed   y  \n",
       "0          93.994          -36.4      4.857       5191.0  no  \n",
       "1          93.994          -36.4      4.857       5191.0  no  \n",
       "2          93.994          -36.4      4.857       5191.0  no  \n",
       "\n",
       "[3 rows x 21 columns]"
      ]
     },
     "execution_count": 2,
     "metadata": {},
     "output_type": "execute_result"
    }
   ],
   "source": [
    "df=pd.read_csv('C:/Users/Admin/Desktop/40 projects/bank-additional-full.csv',delimiter=';')\n",
    "df.head(3)\n"
   ]
  },
  {
   "cell_type": "code",
   "execution_count": 3,
   "id": "c8a0de5a",
   "metadata": {},
   "outputs": [
    {
     "data": {
      "text/html": [
       "<div>\n",
       "<style scoped>\n",
       "    .dataframe tbody tr th:only-of-type {\n",
       "        vertical-align: middle;\n",
       "    }\n",
       "\n",
       "    .dataframe tbody tr th {\n",
       "        vertical-align: top;\n",
       "    }\n",
       "\n",
       "    .dataframe thead th {\n",
       "        text-align: right;\n",
       "    }\n",
       "</style>\n",
       "<table border=\"1\" class=\"dataframe\">\n",
       "  <thead>\n",
       "    <tr style=\"text-align: right;\">\n",
       "      <th></th>\n",
       "      <th>age</th>\n",
       "      <th>job</th>\n",
       "      <th>marital</th>\n",
       "      <th>education</th>\n",
       "      <th>default</th>\n",
       "      <th>housing</th>\n",
       "      <th>loan</th>\n",
       "      <th>contact</th>\n",
       "      <th>month</th>\n",
       "      <th>day_of_week</th>\n",
       "      <th>...</th>\n",
       "      <th>campaign</th>\n",
       "      <th>pdays</th>\n",
       "      <th>previous</th>\n",
       "      <th>poutcome</th>\n",
       "      <th>emp.var.rate</th>\n",
       "      <th>cons.price.idx</th>\n",
       "      <th>cons.conf.idx</th>\n",
       "      <th>euribor3m</th>\n",
       "      <th>nr.employed</th>\n",
       "      <th>y</th>\n",
       "    </tr>\n",
       "  </thead>\n",
       "  <tbody>\n",
       "    <tr>\n",
       "      <th>41185</th>\n",
       "      <td>56</td>\n",
       "      <td>retired</td>\n",
       "      <td>married</td>\n",
       "      <td>university.degree</td>\n",
       "      <td>no</td>\n",
       "      <td>yes</td>\n",
       "      <td>no</td>\n",
       "      <td>cellular</td>\n",
       "      <td>nov</td>\n",
       "      <td>fri</td>\n",
       "      <td>...</td>\n",
       "      <td>2</td>\n",
       "      <td>999</td>\n",
       "      <td>0</td>\n",
       "      <td>nonexistent</td>\n",
       "      <td>-1.1</td>\n",
       "      <td>94.767</td>\n",
       "      <td>-50.8</td>\n",
       "      <td>1.028</td>\n",
       "      <td>4963.6</td>\n",
       "      <td>no</td>\n",
       "    </tr>\n",
       "    <tr>\n",
       "      <th>41186</th>\n",
       "      <td>44</td>\n",
       "      <td>technician</td>\n",
       "      <td>married</td>\n",
       "      <td>professional.course</td>\n",
       "      <td>no</td>\n",
       "      <td>no</td>\n",
       "      <td>no</td>\n",
       "      <td>cellular</td>\n",
       "      <td>nov</td>\n",
       "      <td>fri</td>\n",
       "      <td>...</td>\n",
       "      <td>1</td>\n",
       "      <td>999</td>\n",
       "      <td>0</td>\n",
       "      <td>nonexistent</td>\n",
       "      <td>-1.1</td>\n",
       "      <td>94.767</td>\n",
       "      <td>-50.8</td>\n",
       "      <td>1.028</td>\n",
       "      <td>4963.6</td>\n",
       "      <td>yes</td>\n",
       "    </tr>\n",
       "    <tr>\n",
       "      <th>41187</th>\n",
       "      <td>74</td>\n",
       "      <td>retired</td>\n",
       "      <td>married</td>\n",
       "      <td>professional.course</td>\n",
       "      <td>no</td>\n",
       "      <td>yes</td>\n",
       "      <td>no</td>\n",
       "      <td>cellular</td>\n",
       "      <td>nov</td>\n",
       "      <td>fri</td>\n",
       "      <td>...</td>\n",
       "      <td>3</td>\n",
       "      <td>999</td>\n",
       "      <td>1</td>\n",
       "      <td>failure</td>\n",
       "      <td>-1.1</td>\n",
       "      <td>94.767</td>\n",
       "      <td>-50.8</td>\n",
       "      <td>1.028</td>\n",
       "      <td>4963.6</td>\n",
       "      <td>no</td>\n",
       "    </tr>\n",
       "  </tbody>\n",
       "</table>\n",
       "<p>3 rows × 21 columns</p>\n",
       "</div>"
      ],
      "text/plain": [
       "       age         job  marital            education default housing loan  \\\n",
       "41185   56     retired  married    university.degree      no     yes   no   \n",
       "41186   44  technician  married  professional.course      no      no   no   \n",
       "41187   74     retired  married  professional.course      no     yes   no   \n",
       "\n",
       "        contact month day_of_week  ...  campaign  pdays  previous  \\\n",
       "41185  cellular   nov         fri  ...         2    999         0   \n",
       "41186  cellular   nov         fri  ...         1    999         0   \n",
       "41187  cellular   nov         fri  ...         3    999         1   \n",
       "\n",
       "          poutcome emp.var.rate  cons.price.idx  cons.conf.idx  euribor3m  \\\n",
       "41185  nonexistent         -1.1          94.767          -50.8      1.028   \n",
       "41186  nonexistent         -1.1          94.767          -50.8      1.028   \n",
       "41187      failure         -1.1          94.767          -50.8      1.028   \n",
       "\n",
       "       nr.employed    y  \n",
       "41185       4963.6   no  \n",
       "41186       4963.6  yes  \n",
       "41187       4963.6   no  \n",
       "\n",
       "[3 rows x 21 columns]"
      ]
     },
     "execution_count": 3,
     "metadata": {},
     "output_type": "execute_result"
    }
   ],
   "source": [
    "df.tail(3)\n"
   ]
  },
  {
   "cell_type": "code",
   "execution_count": 4,
   "id": "dd828673",
   "metadata": {},
   "outputs": [
    {
     "data": {
      "text/plain": [
       "(41188, 21)"
      ]
     },
     "execution_count": 4,
     "metadata": {},
     "output_type": "execute_result"
    }
   ],
   "source": [
    "df.shape"
   ]
  },
  {
   "cell_type": "code",
   "execution_count": 5,
   "id": "ff2815b0",
   "metadata": {
    "scrolled": true
   },
   "outputs": [
    {
     "data": {
      "text/html": [
       "<div>\n",
       "<style scoped>\n",
       "    .dataframe tbody tr th:only-of-type {\n",
       "        vertical-align: middle;\n",
       "    }\n",
       "\n",
       "    .dataframe tbody tr th {\n",
       "        vertical-align: top;\n",
       "    }\n",
       "\n",
       "    .dataframe thead th {\n",
       "        text-align: right;\n",
       "    }\n",
       "</style>\n",
       "<table border=\"1\" class=\"dataframe\">\n",
       "  <thead>\n",
       "    <tr style=\"text-align: right;\">\n",
       "      <th></th>\n",
       "      <th>age</th>\n",
       "      <th>duration</th>\n",
       "      <th>campaign</th>\n",
       "      <th>pdays</th>\n",
       "      <th>previous</th>\n",
       "      <th>emp.var.rate</th>\n",
       "      <th>cons.price.idx</th>\n",
       "      <th>cons.conf.idx</th>\n",
       "      <th>euribor3m</th>\n",
       "      <th>nr.employed</th>\n",
       "    </tr>\n",
       "  </thead>\n",
       "  <tbody>\n",
       "    <tr>\n",
       "      <th>count</th>\n",
       "      <td>41188.00000</td>\n",
       "      <td>41188.000000</td>\n",
       "      <td>41188.000000</td>\n",
       "      <td>41188.000000</td>\n",
       "      <td>41188.000000</td>\n",
       "      <td>41188.000000</td>\n",
       "      <td>41188.000000</td>\n",
       "      <td>41188.000000</td>\n",
       "      <td>41188.000000</td>\n",
       "      <td>41188.000000</td>\n",
       "    </tr>\n",
       "    <tr>\n",
       "      <th>mean</th>\n",
       "      <td>40.02406</td>\n",
       "      <td>258.285010</td>\n",
       "      <td>2.567593</td>\n",
       "      <td>962.475454</td>\n",
       "      <td>0.172963</td>\n",
       "      <td>0.081886</td>\n",
       "      <td>93.575664</td>\n",
       "      <td>-40.502600</td>\n",
       "      <td>3.621291</td>\n",
       "      <td>5167.035911</td>\n",
       "    </tr>\n",
       "    <tr>\n",
       "      <th>std</th>\n",
       "      <td>10.42125</td>\n",
       "      <td>259.279249</td>\n",
       "      <td>2.770014</td>\n",
       "      <td>186.910907</td>\n",
       "      <td>0.494901</td>\n",
       "      <td>1.570960</td>\n",
       "      <td>0.578840</td>\n",
       "      <td>4.628198</td>\n",
       "      <td>1.734447</td>\n",
       "      <td>72.251528</td>\n",
       "    </tr>\n",
       "    <tr>\n",
       "      <th>min</th>\n",
       "      <td>17.00000</td>\n",
       "      <td>0.000000</td>\n",
       "      <td>1.000000</td>\n",
       "      <td>0.000000</td>\n",
       "      <td>0.000000</td>\n",
       "      <td>-3.400000</td>\n",
       "      <td>92.201000</td>\n",
       "      <td>-50.800000</td>\n",
       "      <td>0.634000</td>\n",
       "      <td>4963.600000</td>\n",
       "    </tr>\n",
       "    <tr>\n",
       "      <th>25%</th>\n",
       "      <td>32.00000</td>\n",
       "      <td>102.000000</td>\n",
       "      <td>1.000000</td>\n",
       "      <td>999.000000</td>\n",
       "      <td>0.000000</td>\n",
       "      <td>-1.800000</td>\n",
       "      <td>93.075000</td>\n",
       "      <td>-42.700000</td>\n",
       "      <td>1.344000</td>\n",
       "      <td>5099.100000</td>\n",
       "    </tr>\n",
       "    <tr>\n",
       "      <th>50%</th>\n",
       "      <td>38.00000</td>\n",
       "      <td>180.000000</td>\n",
       "      <td>2.000000</td>\n",
       "      <td>999.000000</td>\n",
       "      <td>0.000000</td>\n",
       "      <td>1.100000</td>\n",
       "      <td>93.749000</td>\n",
       "      <td>-41.800000</td>\n",
       "      <td>4.857000</td>\n",
       "      <td>5191.000000</td>\n",
       "    </tr>\n",
       "    <tr>\n",
       "      <th>75%</th>\n",
       "      <td>47.00000</td>\n",
       "      <td>319.000000</td>\n",
       "      <td>3.000000</td>\n",
       "      <td>999.000000</td>\n",
       "      <td>0.000000</td>\n",
       "      <td>1.400000</td>\n",
       "      <td>93.994000</td>\n",
       "      <td>-36.400000</td>\n",
       "      <td>4.961000</td>\n",
       "      <td>5228.100000</td>\n",
       "    </tr>\n",
       "    <tr>\n",
       "      <th>max</th>\n",
       "      <td>98.00000</td>\n",
       "      <td>4918.000000</td>\n",
       "      <td>56.000000</td>\n",
       "      <td>999.000000</td>\n",
       "      <td>7.000000</td>\n",
       "      <td>1.400000</td>\n",
       "      <td>94.767000</td>\n",
       "      <td>-26.900000</td>\n",
       "      <td>5.045000</td>\n",
       "      <td>5228.100000</td>\n",
       "    </tr>\n",
       "  </tbody>\n",
       "</table>\n",
       "</div>"
      ],
      "text/plain": [
       "               age      duration      campaign         pdays      previous  \\\n",
       "count  41188.00000  41188.000000  41188.000000  41188.000000  41188.000000   \n",
       "mean      40.02406    258.285010      2.567593    962.475454      0.172963   \n",
       "std       10.42125    259.279249      2.770014    186.910907      0.494901   \n",
       "min       17.00000      0.000000      1.000000      0.000000      0.000000   \n",
       "25%       32.00000    102.000000      1.000000    999.000000      0.000000   \n",
       "50%       38.00000    180.000000      2.000000    999.000000      0.000000   \n",
       "75%       47.00000    319.000000      3.000000    999.000000      0.000000   \n",
       "max       98.00000   4918.000000     56.000000    999.000000      7.000000   \n",
       "\n",
       "       emp.var.rate  cons.price.idx  cons.conf.idx     euribor3m   nr.employed  \n",
       "count  41188.000000    41188.000000   41188.000000  41188.000000  41188.000000  \n",
       "mean       0.081886       93.575664     -40.502600      3.621291   5167.035911  \n",
       "std        1.570960        0.578840       4.628198      1.734447     72.251528  \n",
       "min       -3.400000       92.201000     -50.800000      0.634000   4963.600000  \n",
       "25%       -1.800000       93.075000     -42.700000      1.344000   5099.100000  \n",
       "50%        1.100000       93.749000     -41.800000      4.857000   5191.000000  \n",
       "75%        1.400000       93.994000     -36.400000      4.961000   5228.100000  \n",
       "max        1.400000       94.767000     -26.900000      5.045000   5228.100000  "
      ]
     },
     "execution_count": 5,
     "metadata": {},
     "output_type": "execute_result"
    }
   ],
   "source": [
    "df.describe()"
   ]
  },
  {
   "cell_type": "code",
   "execution_count": 6,
   "id": "d3a39dc3",
   "metadata": {},
   "outputs": [
    {
     "name": "stdout",
     "output_type": "stream",
     "text": [
      "<class 'pandas.core.frame.DataFrame'>\n",
      "RangeIndex: 41188 entries, 0 to 41187\n",
      "Data columns (total 21 columns):\n",
      " #   Column          Non-Null Count  Dtype  \n",
      "---  ------          --------------  -----  \n",
      " 0   age             41188 non-null  int64  \n",
      " 1   job             41188 non-null  object \n",
      " 2   marital         41188 non-null  object \n",
      " 3   education       41188 non-null  object \n",
      " 4   default         41188 non-null  object \n",
      " 5   housing         41188 non-null  object \n",
      " 6   loan            41188 non-null  object \n",
      " 7   contact         41188 non-null  object \n",
      " 8   month           41188 non-null  object \n",
      " 9   day_of_week     41188 non-null  object \n",
      " 10  duration        41188 non-null  int64  \n",
      " 11  campaign        41188 non-null  int64  \n",
      " 12  pdays           41188 non-null  int64  \n",
      " 13  previous        41188 non-null  int64  \n",
      " 14  poutcome        41188 non-null  object \n",
      " 15  emp.var.rate    41188 non-null  float64\n",
      " 16  cons.price.idx  41188 non-null  float64\n",
      " 17  cons.conf.idx   41188 non-null  float64\n",
      " 18  euribor3m       41188 non-null  float64\n",
      " 19  nr.employed     41188 non-null  float64\n",
      " 20  y               41188 non-null  object \n",
      "dtypes: float64(5), int64(5), object(11)\n",
      "memory usage: 6.6+ MB\n"
     ]
    }
   ],
   "source": [
    "df.info()"
   ]
  },
  {
   "cell_type": "code",
   "execution_count": 7,
   "id": "01cdc98c",
   "metadata": {},
   "outputs": [
    {
     "data": {
      "text/plain": [
       "y                    2\n",
       "contact              2\n",
       "default              3\n",
       "housing              3\n",
       "loan                 3\n",
       "poutcome             3\n",
       "marital              4\n",
       "day_of_week          5\n",
       "education            8\n",
       "previous             8\n",
       "emp.var.rate        10\n",
       "month               10\n",
       "nr.employed         11\n",
       "job                 12\n",
       "cons.price.idx      26\n",
       "cons.conf.idx       26\n",
       "pdays               27\n",
       "campaign            42\n",
       "age                 78\n",
       "euribor3m          316\n",
       "duration          1544\n",
       "dtype: int64"
      ]
     },
     "execution_count": 7,
     "metadata": {},
     "output_type": "execute_result"
    }
   ],
   "source": [
    "df.nunique().sort_values(ascending=True)"
   ]
  },
  {
   "cell_type": "code",
   "execution_count": 8,
   "id": "dcc13d64",
   "metadata": {},
   "outputs": [
    {
     "data": {
      "text/plain": [
       "age               0\n",
       "job               0\n",
       "marital           0\n",
       "education         0\n",
       "default           0\n",
       "housing           0\n",
       "loan              0\n",
       "contact           0\n",
       "month             0\n",
       "day_of_week       0\n",
       "duration          0\n",
       "campaign          0\n",
       "pdays             0\n",
       "previous          0\n",
       "poutcome          0\n",
       "emp.var.rate      0\n",
       "cons.price.idx    0\n",
       "cons.conf.idx     0\n",
       "euribor3m         0\n",
       "nr.employed       0\n",
       "y                 0\n",
       "dtype: int64"
      ]
     },
     "execution_count": 8,
     "metadata": {},
     "output_type": "execute_result"
    }
   ],
   "source": [
    "df.isnull().sum()"
   ]
  },
  {
   "cell_type": "code",
   "execution_count": 9,
   "id": "2adda6d0",
   "metadata": {},
   "outputs": [],
   "source": [
    "#pip install missingno\n",
    "import missingno as msno #------ finds the missing value and helps in ploting"
   ]
  },
  {
   "cell_type": "code",
   "execution_count": 10,
   "id": "c0aec7df",
   "metadata": {},
   "outputs": [
    {
     "data": {
      "text/plain": [
       "<AxesSubplot:>"
      ]
     },
     "execution_count": 10,
     "metadata": {},
     "output_type": "execute_result"
    },
    {
     "data": {
      "image/png": "[encoded data removed]",
      "text/plain": [
       "<Figure size 2160x1152 with 2 Axes>"
      ]
     },
     "metadata": {
      "needs_background": "light"
     },
     "output_type": "display_data"
    }
   ],
   "source": [
    "msno.matrix(df,labels=[df.columns],figsize=(30,16),fontsize=18)"
   ]
  },
  {
   "cell_type": "markdown",
   "id": "a409da3c",
   "metadata": {},
   "source": [
    "## EDA"
   ]
  },
  {
   "cell_type": "code",
   "execution_count": 11,
   "id": "f56ac38b",
   "metadata": {},
   "outputs": [
    {
     "data": {
      "text/plain": [
       "array(['no', 'yes'], dtype=object)"
      ]
     },
     "execution_count": 11,
     "metadata": {},
     "output_type": "execute_result"
    }
   ],
   "source": [
    "# target variable y\n",
    "df.y.unique()"
   ]
  },
  {
   "cell_type": "code",
   "execution_count": 12,
   "id": "59dec23d",
   "metadata": {},
   "outputs": [],
   "source": [
    "df.y=df['y'].map({'yes':1,'no':0})"
   ]
  },
  {
   "cell_type": "code",
   "execution_count": 13,
   "id": "5570d6d9",
   "metadata": {},
   "outputs": [
    {
     "data": {
      "text/plain": [
       "<AxesSubplot:xlabel='y', ylabel='count'>"
      ]
     },
     "execution_count": 13,
     "metadata": {},
     "output_type": "execute_result"
    },
    {
     "data": {
      "image/png": "[encoded data removed]",
      "text/plain": [
       "<Figure size 432x288 with 1 Axes>"
      ]
     },
     "metadata": {
      "needs_background": "light"
     },
     "output_type": "display_data"
    }
   ],
   "source": [
    "sns.countplot(df.y)"
   ]
  },
  {
   "cell_type": "code",
   "execution_count": 14,
   "id": "ef71b546",
   "metadata": {
    "scrolled": false
   },
   "outputs": [
    {
     "data": {
      "image/png": "[encoded data removed]",
      "text/plain": [
       "<Figure size 1296x1296 with 10 Axes>"
      ]
     },
     "metadata": {
      "needs_background": "light"
     },
     "output_type": "display_data"
    }
   ],
   "source": [
    "\n",
    "\n",
    "\n",
    " # histplot for the continuous variables \n",
    "\n",
    "plt.figure(figsize=(18, 18))\n",
    "for i, col in enumerate(df.drop(['y'],axis=1).select_dtypes(include=['int','float']).columns):\n",
    "    plt.rcParams['axes.facecolor'] = 'black'\n",
    "    ax = plt.subplot(4,3, i+1)\n",
    "    sns.histplot(data=df, x=col, ax=ax,color='red',kde=True)\n",
    "plt.suptitle('Data distribution of continuous variables')\n",
    "plt.tight_layout()\n"
   ]
  },
  {
   "cell_type": "code",
   "execution_count": 15,
   "id": "78de2d8e",
   "metadata": {},
   "outputs": [
    {
     "data": {
      "image/png": "[encoded data removed]",
      "text/plain": [
       "<Figure size 1296x1296 with 10 Axes>"
      ]
     },
     "metadata": {
      "needs_background": "light"
     },
     "output_type": "display_data"
    }
   ],
   "source": [
    "# bar plot for the continuous variables\n",
    "\n",
    "plt.figure(figsize=(18, 18))\n",
    "for i, col in enumerate(df.drop(['y'],axis=1).select_dtypes(include=['int','float']).columns):\n",
    "    plt.rcParams['axes.facecolor'] = 'white'\n",
    "    ax = plt.subplot(4,3, i+1)\n",
    "    sns.boxplot(data=df, x=col, ax=ax,color='red')\n",
    "plt.suptitle('Data distribution of continuous variables')\n",
    "plt.tight_layout()"
   ]
  },
  {
   "cell_type": "code",
   "execution_count": 16,
   "id": "79bec263",
   "metadata": {},
   "outputs": [
    {
     "data": {
      "text/plain": [
       "<AxesSubplot:>"
      ]
     },
     "execution_count": 16,
     "metadata": {},
     "output_type": "execute_result"
    },
    {
     "data": {
      "image/png": "[encoded data removed]",
      "text/plain": [
       "<Figure size 1080x720 with 2 Axes>"
      ]
     },
     "metadata": {
      "needs_background": "light"
     },
     "output_type": "display_data"
    }
   ],
   "source": [
    "#correlation analysis\n",
    "#ploting a heatmap to reduce the variable which has less correlation\n",
    "\n",
    "corr=df.corr()\n",
    "plt.figure(figsize=(15,10))\n",
    "sns.heatmap(corr,annot=True,center=0)\n"
   ]
  },
  {
   "cell_type": "code",
   "execution_count": 17,
   "id": "3efd5bd4",
   "metadata": {},
   "outputs": [
    {
     "data": {
      "text/plain": [
       "cellular     26144\n",
       "telephone    15044\n",
       "Name: contact, dtype: int64"
      ]
     },
     "execution_count": 17,
     "metadata": {},
     "output_type": "execute_result"
    }
   ],
   "source": [
    "#handling contact\n",
    "df.contact.value_counts()"
   ]
  },
  {
   "cell_type": "code",
   "execution_count": 18,
   "id": "56592a8b",
   "metadata": {},
   "outputs": [
    {
     "data": {
      "text/plain": [
       "<AxesSubplot:xlabel='contact', ylabel='count'>"
      ]
     },
     "execution_count": 18,
     "metadata": {},
     "output_type": "execute_result"
    },
    {
     "data": {
      "image/png": "[encoded data removed]",
      "text/plain": [
       "<Figure size 432x288 with 1 Axes>"
      ]
     },
     "metadata": {
      "needs_background": "light"
     },
     "output_type": "display_data"
    }
   ],
   "source": [
    "plt.rcParams['axes.facecolor'] = 'white'\n",
    "sns.countplot(x='contact',data=df,hue='y')"
   ]
  },
  {
   "cell_type": "code",
   "execution_count": 19,
   "id": "89987c18",
   "metadata": {},
   "outputs": [],
   "source": [
    "from scipy.stats import chi2_contingency"
   ]
  },
  {
   "cell_type": "code",
   "execution_count": 20,
   "id": "16e101ba",
   "metadata": {},
   "outputs": [
    {
     "name": "stdout",
     "output_type": "stream",
     "text": [
      "chi2_stats: 862.3183642075705\n",
      "p-value: 0.0\n"
     ]
    }
   ],
   "source": [
    "cs=pd.crosstab(index=df.contact,columns=df.y)\n",
    "chi2_stat,p_value,dof,expected=chi2_contingency(cs)\n",
    "print('chi2_stats:',chi2_stat)\n",
    "print('p-value:',p_value.round(decimals=5))"
   ]
  },
  {
   "cell_type": "code",
   "execution_count": 21,
   "id": "35c4c9bb",
   "metadata": {},
   "outputs": [
    {
     "data": {
      "text/plain": [
       "no         32588\n",
       "unknown     8597\n",
       "yes            3\n",
       "Name: default, dtype: int64"
      ]
     },
     "execution_count": 21,
     "metadata": {},
     "output_type": "execute_result"
    }
   ],
   "source": [
    "#handling default\n",
    "df.default.value_counts()\n"
   ]
  },
  {
   "cell_type": "code",
   "execution_count": 22,
   "id": "64a1fa2b",
   "metadata": {},
   "outputs": [
    {
     "data": {
      "text/plain": [
       "<AxesSubplot:xlabel='default', ylabel='count'>"
      ]
     },
     "execution_count": 22,
     "metadata": {},
     "output_type": "execute_result"
    },
    {
     "data": {
      "image/png": "[encoded data removed]",
      "text/plain": [
       "<Figure size 432x288 with 1 Axes>"
      ]
     },
     "metadata": {
      "needs_background": "light"
     },
     "output_type": "display_data"
    }
   ],
   "source": [
    "sns.countplot(df.default,hue=df.y)"
   ]
  },
  {
   "cell_type": "code",
   "execution_count": 23,
   "id": "cfacee67",
   "metadata": {},
   "outputs": [
    {
     "name": "stdout",
     "output_type": "stream",
     "text": [
      "chi2_stats: 406.5775146420093\n",
      "p-value: 0.0\n"
     ]
    }
   ],
   "source": [
    "cs=pd.crosstab(index=df.default,columns=df.y)\n",
    "chi2_stat,p_value,dof,expected=chi2_contingency(cs)\n",
    "print('chi2_stats:',chi2_stat)\n",
    "print('p-value:',p_value.round(decimals=5))"
   ]
  },
  {
   "cell_type": "code",
   "execution_count": 24,
   "id": "e061c5ac",
   "metadata": {},
   "outputs": [
    {
     "data": {
      "text/plain": [
       "yes        21576\n",
       "no         18622\n",
       "unknown      990\n",
       "Name: housing, dtype: int64"
      ]
     },
     "execution_count": 24,
     "metadata": {},
     "output_type": "execute_result"
    }
   ],
   "source": [
    "#handling housing\n",
    "df.housing.value_counts()"
   ]
  },
  {
   "cell_type": "code",
   "execution_count": 25,
   "id": "57eedf81",
   "metadata": {},
   "outputs": [
    {
     "data": {
      "text/plain": [
       "<AxesSubplot:xlabel='housing', ylabel='count'>"
      ]
     },
     "execution_count": 25,
     "metadata": {},
     "output_type": "execute_result"
    },
    {
     "data": {
      "image/png": "[encoded data removed]",
      "text/plain": [
       "<Figure size 432x288 with 1 Axes>"
      ]
     },
     "metadata": {
      "needs_background": "light"
     },
     "output_type": "display_data"
    }
   ],
   "source": [
    "sns.countplot(df.housing,hue=df.y)"
   ]
  },
  {
   "cell_type": "code",
   "execution_count": 26,
   "id": "f9814fc4",
   "metadata": {},
   "outputs": [
    {
     "name": "stdout",
     "output_type": "stream",
     "text": [
      "chi2_stats: 5.684495858974168\n",
      "p-value: 0.05829\n"
     ]
    }
   ],
   "source": [
    "cs=pd.crosstab(index=df.housing,columns=df.y)\n",
    "chi2_stat,p_value,dof,expected=chi2_contingency(cs)\n",
    "print('chi2_stats:',chi2_stat)\n",
    "print('p-value:',p_value.round(decimals=5))"
   ]
  },
  {
   "cell_type": "code",
   "execution_count": 27,
   "id": "2196e509",
   "metadata": {},
   "outputs": [
    {
     "data": {
      "text/plain": [
       "no         33950\n",
       "yes         6248\n",
       "unknown      990\n",
       "Name: loan, dtype: int64"
      ]
     },
     "execution_count": 27,
     "metadata": {},
     "output_type": "execute_result"
    }
   ],
   "source": [
    "#handling loan\n",
    "df.loan.value_counts()"
   ]
  },
  {
   "cell_type": "code",
   "execution_count": 28,
   "id": "ee662a49",
   "metadata": {},
   "outputs": [
    {
     "data": {
      "text/plain": [
       "<AxesSubplot:xlabel='housing', ylabel='count'>"
      ]
     },
     "execution_count": 28,
     "metadata": {},
     "output_type": "execute_result"
    },
    {
     "data": {
      "image/png": "[encoded data removed]",
      "text/plain": [
       "<Figure size 432x288 with 1 Axes>"
      ]
     },
     "metadata": {
      "needs_background": "light"
     },
     "output_type": "display_data"
    }
   ],
   "source": [
    "sns.countplot(df.housing,hue=df.y)"
   ]
  },
  {
   "cell_type": "code",
   "execution_count": 29,
   "id": "6514767d",
   "metadata": {},
   "outputs": [
    {
     "name": "stdout",
     "output_type": "stream",
     "text": [
      "chi2_stats: 1.094027551150338\n",
      "p-value: 0.57868\n"
     ]
    }
   ],
   "source": [
    "cs=pd.crosstab(index=df.loan,columns=df.y)\n",
    "chi2_stat,p_value,dof,expected=chi2_contingency(cs)\n",
    "print('chi2_stats:',chi2_stat)\n",
    "print('p-value:',p_value.round(decimals=5))"
   ]
  },
  {
   "cell_type": "code",
   "execution_count": 30,
   "id": "e776a644",
   "metadata": {},
   "outputs": [
    {
     "data": {
      "text/plain": [
       "university.degree      12168\n",
       "high.school             9515\n",
       "basic.9y                6045\n",
       "professional.course     5243\n",
       "basic.4y                4176\n",
       "basic.6y                2292\n",
       "unknown                 1731\n",
       "illiterate                18\n",
       "Name: education, dtype: int64"
      ]
     },
     "execution_count": 30,
     "metadata": {},
     "output_type": "execute_result"
    }
   ],
   "source": [
    "# handling education\n",
    "df.education.value_counts()"
   ]
  },
  {
   "cell_type": "code",
   "execution_count": 31,
   "id": "b479c31d",
   "metadata": {},
   "outputs": [
    {
     "data": {
      "text/plain": [
       "<AxesSubplot:xlabel='education', ylabel='count'>"
      ]
     },
     "execution_count": 31,
     "metadata": {},
     "output_type": "execute_result"
    },
    {
     "data": {
      "image/png": "[encoded data removed]",
      "text/plain": [
       "<Figure size 432x288 with 1 Axes>"
      ]
     },
     "metadata": {
      "needs_background": "light"
     },
     "output_type": "display_data"
    }
   ],
   "source": [
    "sns.countplot(df.education,hue=df.y)"
   ]
  },
  {
   "cell_type": "code",
   "execution_count": 32,
   "id": "86c11c5d",
   "metadata": {},
   "outputs": [
    {
     "name": "stdout",
     "output_type": "stream",
     "text": [
      "chi2_stats: 193.10590454149565\n",
      "p-value: 0.0\n"
     ]
    }
   ],
   "source": [
    "cs=pd.crosstab(index=df.education,columns=df.y)\n",
    "chi2_stat,p_value,dof,expected=chi2_contingency(cs)\n",
    "print('chi2_stats:',chi2_stat)\n",
    "print('p-value:',p_value.round(decimals=5))"
   ]
  },
  {
   "cell_type": "code",
   "execution_count": 33,
   "id": "ac82b117",
   "metadata": {},
   "outputs": [
    {
     "data": {
      "text/plain": [
       "married     24928\n",
       "single      11568\n",
       "divorced     4612\n",
       "unknown        80\n",
       "Name: marital, dtype: int64"
      ]
     },
     "execution_count": 33,
     "metadata": {},
     "output_type": "execute_result"
    }
   ],
   "source": [
    "# handling martial\n",
    "df.marital.value_counts()\n",
    "\n"
   ]
  },
  {
   "cell_type": "code",
   "execution_count": 34,
   "id": "8d5f7579",
   "metadata": {},
   "outputs": [
    {
     "data": {
      "text/plain": [
       "<AxesSubplot:xlabel='marital', ylabel='count'>"
      ]
     },
     "execution_count": 34,
     "metadata": {},
     "output_type": "execute_result"
    },
    {
     "data": {
      "image/png": "[encoded data removed]",
      "text/plain": [
       "<Figure size 432x288 with 1 Axes>"
      ]
     },
     "metadata": {
      "needs_background": "light"
     },
     "output_type": "display_data"
    }
   ],
   "source": [
    "sns.countplot(df.marital,hue=df.y)"
   ]
  },
  {
   "cell_type": "code",
   "execution_count": 35,
   "id": "8a20351a",
   "metadata": {},
   "outputs": [
    {
     "name": "stdout",
     "output_type": "stream",
     "text": [
      "chi2_stats: 122.65515182252989\n",
      "p-value: 0.0\n"
     ]
    }
   ],
   "source": [
    "cs=pd.crosstab(index=df.marital,columns=df.y)\n",
    "chi2_stat,p_value,dof,expected=chi2_contingency(cs)\n",
    "print('chi2_stats:',chi2_stat)\n",
    "print('p-value:',p_value.round(decimals=5))"
   ]
  },
  {
   "cell_type": "code",
   "execution_count": 36,
   "id": "0c8161fa",
   "metadata": {},
   "outputs": [
    {
     "data": {
      "image/png": "[encoded data removed]",
      "text/plain": [
       "<Figure size 1080x720 with 10 Axes>"
      ]
     },
     "metadata": {
      "needs_background": "light"
     },
     "output_type": "display_data"
    }
   ],
   "source": [
    "plt.figure(figsize=(15, 10))\n",
    "for i, col in enumerate(df.drop(['y'],axis=1).select_dtypes(include=['int','float']).columns):\n",
    "    plt.rcParams['axes.facecolor'] = 'black'\n",
    "    ax = plt.subplot(3,4, i+1)\n",
    "    sns.barplot(data=df,x='y', y=col, ax=ax,edgecolor=\"black\",palette='viridis_r')\n",
    "font= {'fontsize':25,'color': 'grey'}\n",
    "plt.suptitle('Data distribution of Target variable',fontsize=40)\n",
    "plt.tight_layout()"
   ]
  },
  {
   "cell_type": "code",
   "execution_count": 37,
   "id": "c4c35ba7",
   "metadata": {
    "scrolled": false
   },
   "outputs": [
    {
     "data": {
      "text/plain": [
       "<Figure size 1080x720 with 0 Axes>"
      ]
     },
     "metadata": {},
     "output_type": "display_data"
    },
    {
     "data": {
      "image/png": "[encoded data removed]",
      "text/plain": [
       "<Figure size 432x288 with 10 Axes>"
      ]
     },
     "metadata": {
      "needs_background": "light"
     },
     "output_type": "display_data"
    },
    {
     "data": {
      "image/png": "[encoded data removed]",
      "text/plain": [
       "<Figure size 402.375x360 with 1 Axes>"
      ]
     },
     "metadata": {
      "needs_background": "light"
     },
     "output_type": "display_data"
    },
    {
     "data": {
      "image/png": "[encoded data removed]",
      "text/plain": [
       "<Figure size 402.375x360 with 1 Axes>"
      ]
     },
     "metadata": {
      "needs_background": "light"
     },
     "output_type": "display_data"
    },
    {
     "data": {
      "image/png": "[encoded data removed]",
      "text/plain": [
       "<Figure size 402.375x360 with 1 Axes>"
      ]
     },
     "metadata": {
      "needs_background": "light"
     },
     "output_type": "display_data"
    },
    {
     "data": {
      "image/png": "[encoded data removed]",
      "text/plain": [
       "<Figure size 402.375x360 with 1 Axes>"
      ]
     },
     "metadata": {
      "needs_background": "light"
     },
     "output_type": "display_data"
    },
    {
     "data": {
      "image/png": "[encoded data removed]",
      "text/plain": [
       "<Figure size 402.375x360 with 1 Axes>"
      ]
     },
     "metadata": {
      "needs_background": "light"
     },
     "output_type": "display_data"
    },
    {
     "data": {
      "image/png": "[encoded data removed]",
      "text/plain": [
       "<Figure size 402.375x360 with 1 Axes>"
      ]
     },
     "metadata": {
      "needs_background": "light"
     },
     "output_type": "display_data"
    },
    {
     "data": {
      "image/png": "[encoded data removed]",
      "text/plain": [
       "<Figure size 402.375x360 with 1 Axes>"
      ]
     },
     "metadata": {
      "needs_background": "light"
     },
     "output_type": "display_data"
    },
    {
     "data": {
      "image/png": "[encoded data removed]",
      "text/plain": [
       "<Figure size 402.375x360 with 1 Axes>"
      ]
     },
     "metadata": {
      "needs_background": "light"
     },
     "output_type": "display_data"
    },
    {
     "data": {
      "image/png": "[encoded data removed]",
      "text/plain": [
       "<Figure size 402.375x360 with 1 Axes>"
      ]
     },
     "metadata": {
      "needs_background": "light"
     },
     "output_type": "display_data"
    },
    {
     "data": {
      "image/png": "[encoded data removed]",
      "text/plain": [
       "<Figure size 402.375x360 with 1 Axes>"
      ]
     },
     "metadata": {
      "needs_background": "light"
     },
     "output_type": "display_data"
    }
   ],
   "source": [
    "plt.figure(figsize=(15, 10))\n",
    "cat_cols=df.select_dtypes(include=['object']).columns.tolist()\n",
    "fig,axes=plt.subplots(nrows=len(cat_cols),ncols=1)\n",
    "\n",
    "for i,col  in enumerate(cat_cols):\n",
    "    sns.catplot(x=col, kind='count',hue='y',data=df,ax=axes[i])\n",
    "    axes[i].set_title(f\"{col.capitalize()} vs Target\")\n",
    "    axes[i].set_xlabel(col.capitalize())\n",
    "    axes[i].set_ylabel('Count')\n",
    "    fig.tight_layout\n",
    "    plt.show()"
   ]
  },
  {
   "cell_type": "markdown",
   "id": "908614c7",
   "metadata": {},
   "source": [
    "## handling unbalanced data"
   ]
  },
  {
   "cell_type": "code",
   "execution_count": 38,
   "id": "d9cb4324",
   "metadata": {},
   "outputs": [
    {
     "data": {
      "image/png": "[encoded data removed]",
      "text/plain": [
       "<Figure size 432x288 with 1 Axes>"
      ]
     },
     "metadata": {},
     "output_type": "display_data"
    }
   ],
   "source": [
    "target_var=pd.crosstab(index=df['y'],columns='% observations')\n",
    "plt.pie(target_var['% observations'],labels=target_var['% observations'].index,autopct='%.0f%%')\n",
    "plt.title('target_var: y')\n",
    "plt.show()"
   ]
  },
  {
   "cell_type": "code",
   "execution_count": 39,
   "id": "70d2fa8a",
   "metadata": {},
   "outputs": [],
   "source": [
    "pd.set_option('display.max_columns',None)"
   ]
  },
  {
   "cell_type": "code",
   "execution_count": 40,
   "id": "a12efee5",
   "metadata": {},
   "outputs": [
    {
     "data": {
      "text/html": [
       "<div>\n",
       "<style scoped>\n",
       "    .dataframe tbody tr th:only-of-type {\n",
       "        vertical-align: middle;\n",
       "    }\n",
       "\n",
       "    .dataframe tbody tr th {\n",
       "        vertical-align: top;\n",
       "    }\n",
       "\n",
       "    .dataframe thead th {\n",
       "        text-align: right;\n",
       "    }\n",
       "</style>\n",
       "<table border=\"1\" class=\"dataframe\">\n",
       "  <thead>\n",
       "    <tr style=\"text-align: right;\">\n",
       "      <th></th>\n",
       "      <th>age</th>\n",
       "      <th>duration</th>\n",
       "      <th>campaign</th>\n",
       "      <th>pdays</th>\n",
       "      <th>previous</th>\n",
       "      <th>emp.var.rate</th>\n",
       "      <th>cons.price.idx</th>\n",
       "      <th>cons.conf.idx</th>\n",
       "      <th>euribor3m</th>\n",
       "      <th>nr.employed</th>\n",
       "      <th>y</th>\n",
       "      <th>job_blue-collar</th>\n",
       "      <th>job_entrepreneur</th>\n",
       "      <th>job_housemaid</th>\n",
       "      <th>job_management</th>\n",
       "      <th>job_retired</th>\n",
       "      <th>job_self-employed</th>\n",
       "      <th>job_services</th>\n",
       "      <th>job_student</th>\n",
       "      <th>job_technician</th>\n",
       "      <th>job_unemployed</th>\n",
       "      <th>job_unknown</th>\n",
       "      <th>marital_married</th>\n",
       "      <th>marital_single</th>\n",
       "      <th>marital_unknown</th>\n",
       "      <th>education_basic.6y</th>\n",
       "      <th>education_basic.9y</th>\n",
       "      <th>education_high.school</th>\n",
       "      <th>education_illiterate</th>\n",
       "      <th>education_professional.course</th>\n",
       "      <th>education_university.degree</th>\n",
       "      <th>education_unknown</th>\n",
       "      <th>default_unknown</th>\n",
       "      <th>default_yes</th>\n",
       "      <th>housing_unknown</th>\n",
       "      <th>housing_yes</th>\n",
       "      <th>loan_unknown</th>\n",
       "      <th>loan_yes</th>\n",
       "      <th>contact_telephone</th>\n",
       "      <th>month_aug</th>\n",
       "      <th>month_dec</th>\n",
       "      <th>month_jul</th>\n",
       "      <th>month_jun</th>\n",
       "      <th>month_mar</th>\n",
       "      <th>month_may</th>\n",
       "      <th>month_nov</th>\n",
       "      <th>month_oct</th>\n",
       "      <th>month_sep</th>\n",
       "      <th>day_of_week_mon</th>\n",
       "      <th>day_of_week_thu</th>\n",
       "      <th>day_of_week_tue</th>\n",
       "      <th>day_of_week_wed</th>\n",
       "      <th>poutcome_nonexistent</th>\n",
       "      <th>poutcome_success</th>\n",
       "    </tr>\n",
       "  </thead>\n",
       "  <tbody>\n",
       "    <tr>\n",
       "      <th>0</th>\n",
       "      <td>56</td>\n",
       "      <td>261</td>\n",
       "      <td>1</td>\n",
       "      <td>999</td>\n",
       "      <td>0</td>\n",
       "      <td>1.1</td>\n",
       "      <td>93.994</td>\n",
       "      <td>-36.4</td>\n",
       "      <td>4.857</td>\n",
       "      <td>5191.0</td>\n",
       "      <td>0</td>\n",
       "      <td>0</td>\n",
       "      <td>0</td>\n",
       "      <td>1</td>\n",
       "      <td>0</td>\n",
       "      <td>0</td>\n",
       "      <td>0</td>\n",
       "      <td>0</td>\n",
       "      <td>0</td>\n",
       "      <td>0</td>\n",
       "      <td>0</td>\n",
       "      <td>0</td>\n",
       "      <td>1</td>\n",
       "      <td>0</td>\n",
       "      <td>0</td>\n",
       "      <td>0</td>\n",
       "      <td>0</td>\n",
       "      <td>0</td>\n",
       "      <td>0</td>\n",
       "      <td>0</td>\n",
       "      <td>0</td>\n",
       "      <td>0</td>\n",
       "      <td>0</td>\n",
       "      <td>0</td>\n",
       "      <td>0</td>\n",
       "      <td>0</td>\n",
       "      <td>0</td>\n",
       "      <td>0</td>\n",
       "      <td>1</td>\n",
       "      <td>0</td>\n",
       "      <td>0</td>\n",
       "      <td>0</td>\n",
       "      <td>0</td>\n",
       "      <td>0</td>\n",
       "      <td>1</td>\n",
       "      <td>0</td>\n",
       "      <td>0</td>\n",
       "      <td>0</td>\n",
       "      <td>1</td>\n",
       "      <td>0</td>\n",
       "      <td>0</td>\n",
       "      <td>0</td>\n",
       "      <td>1</td>\n",
       "      <td>0</td>\n",
       "    </tr>\n",
       "    <tr>\n",
       "      <th>1</th>\n",
       "      <td>57</td>\n",
       "      <td>149</td>\n",
       "      <td>1</td>\n",
       "      <td>999</td>\n",
       "      <td>0</td>\n",
       "      <td>1.1</td>\n",
       "      <td>93.994</td>\n",
       "      <td>-36.4</td>\n",
       "      <td>4.857</td>\n",
       "      <td>5191.0</td>\n",
       "      <td>0</td>\n",
       "      <td>0</td>\n",
       "      <td>0</td>\n",
       "      <td>0</td>\n",
       "      <td>0</td>\n",
       "      <td>0</td>\n",
       "      <td>0</td>\n",
       "      <td>1</td>\n",
       "      <td>0</td>\n",
       "      <td>0</td>\n",
       "      <td>0</td>\n",
       "      <td>0</td>\n",
       "      <td>1</td>\n",
       "      <td>0</td>\n",
       "      <td>0</td>\n",
       "      <td>0</td>\n",
       "      <td>0</td>\n",
       "      <td>1</td>\n",
       "      <td>0</td>\n",
       "      <td>0</td>\n",
       "      <td>0</td>\n",
       "      <td>0</td>\n",
       "      <td>1</td>\n",
       "      <td>0</td>\n",
       "      <td>0</td>\n",
       "      <td>0</td>\n",
       "      <td>0</td>\n",
       "      <td>0</td>\n",
       "      <td>1</td>\n",
       "      <td>0</td>\n",
       "      <td>0</td>\n",
       "      <td>0</td>\n",
       "      <td>0</td>\n",
       "      <td>0</td>\n",
       "      <td>1</td>\n",
       "      <td>0</td>\n",
       "      <td>0</td>\n",
       "      <td>0</td>\n",
       "      <td>1</td>\n",
       "      <td>0</td>\n",
       "      <td>0</td>\n",
       "      <td>0</td>\n",
       "      <td>1</td>\n",
       "      <td>0</td>\n",
       "    </tr>\n",
       "    <tr>\n",
       "      <th>2</th>\n",
       "      <td>37</td>\n",
       "      <td>226</td>\n",
       "      <td>1</td>\n",
       "      <td>999</td>\n",
       "      <td>0</td>\n",
       "      <td>1.1</td>\n",
       "      <td>93.994</td>\n",
       "      <td>-36.4</td>\n",
       "      <td>4.857</td>\n",
       "      <td>5191.0</td>\n",
       "      <td>0</td>\n",
       "      <td>0</td>\n",
       "      <td>0</td>\n",
       "      <td>0</td>\n",
       "      <td>0</td>\n",
       "      <td>0</td>\n",
       "      <td>0</td>\n",
       "      <td>1</td>\n",
       "      <td>0</td>\n",
       "      <td>0</td>\n",
       "      <td>0</td>\n",
       "      <td>0</td>\n",
       "      <td>1</td>\n",
       "      <td>0</td>\n",
       "      <td>0</td>\n",
       "      <td>0</td>\n",
       "      <td>0</td>\n",
       "      <td>1</td>\n",
       "      <td>0</td>\n",
       "      <td>0</td>\n",
       "      <td>0</td>\n",
       "      <td>0</td>\n",
       "      <td>0</td>\n",
       "      <td>0</td>\n",
       "      <td>0</td>\n",
       "      <td>1</td>\n",
       "      <td>0</td>\n",
       "      <td>0</td>\n",
       "      <td>1</td>\n",
       "      <td>0</td>\n",
       "      <td>0</td>\n",
       "      <td>0</td>\n",
       "      <td>0</td>\n",
       "      <td>0</td>\n",
       "      <td>1</td>\n",
       "      <td>0</td>\n",
       "      <td>0</td>\n",
       "      <td>0</td>\n",
       "      <td>1</td>\n",
       "      <td>0</td>\n",
       "      <td>0</td>\n",
       "      <td>0</td>\n",
       "      <td>1</td>\n",
       "      <td>0</td>\n",
       "    </tr>\n",
       "    <tr>\n",
       "      <th>3</th>\n",
       "      <td>40</td>\n",
       "      <td>151</td>\n",
       "      <td>1</td>\n",
       "      <td>999</td>\n",
       "      <td>0</td>\n",
       "      <td>1.1</td>\n",
       "      <td>93.994</td>\n",
       "      <td>-36.4</td>\n",
       "      <td>4.857</td>\n",
       "      <td>5191.0</td>\n",
       "      <td>0</td>\n",
       "      <td>0</td>\n",
       "      <td>0</td>\n",
       "      <td>0</td>\n",
       "      <td>0</td>\n",
       "      <td>0</td>\n",
       "      <td>0</td>\n",
       "      <td>0</td>\n",
       "      <td>0</td>\n",
       "      <td>0</td>\n",
       "      <td>0</td>\n",
       "      <td>0</td>\n",
       "      <td>1</td>\n",
       "      <td>0</td>\n",
       "      <td>0</td>\n",
       "      <td>1</td>\n",
       "      <td>0</td>\n",
       "      <td>0</td>\n",
       "      <td>0</td>\n",
       "      <td>0</td>\n",
       "      <td>0</td>\n",
       "      <td>0</td>\n",
       "      <td>0</td>\n",
       "      <td>0</td>\n",
       "      <td>0</td>\n",
       "      <td>0</td>\n",
       "      <td>0</td>\n",
       "      <td>0</td>\n",
       "      <td>1</td>\n",
       "      <td>0</td>\n",
       "      <td>0</td>\n",
       "      <td>0</td>\n",
       "      <td>0</td>\n",
       "      <td>0</td>\n",
       "      <td>1</td>\n",
       "      <td>0</td>\n",
       "      <td>0</td>\n",
       "      <td>0</td>\n",
       "      <td>1</td>\n",
       "      <td>0</td>\n",
       "      <td>0</td>\n",
       "      <td>0</td>\n",
       "      <td>1</td>\n",
       "      <td>0</td>\n",
       "    </tr>\n",
       "    <tr>\n",
       "      <th>4</th>\n",
       "      <td>56</td>\n",
       "      <td>307</td>\n",
       "      <td>1</td>\n",
       "      <td>999</td>\n",
       "      <td>0</td>\n",
       "      <td>1.1</td>\n",
       "      <td>93.994</td>\n",
       "      <td>-36.4</td>\n",
       "      <td>4.857</td>\n",
       "      <td>5191.0</td>\n",
       "      <td>0</td>\n",
       "      <td>0</td>\n",
       "      <td>0</td>\n",
       "      <td>0</td>\n",
       "      <td>0</td>\n",
       "      <td>0</td>\n",
       "      <td>0</td>\n",
       "      <td>1</td>\n",
       "      <td>0</td>\n",
       "      <td>0</td>\n",
       "      <td>0</td>\n",
       "      <td>0</td>\n",
       "      <td>1</td>\n",
       "      <td>0</td>\n",
       "      <td>0</td>\n",
       "      <td>0</td>\n",
       "      <td>0</td>\n",
       "      <td>1</td>\n",
       "      <td>0</td>\n",
       "      <td>0</td>\n",
       "      <td>0</td>\n",
       "      <td>0</td>\n",
       "      <td>0</td>\n",
       "      <td>0</td>\n",
       "      <td>0</td>\n",
       "      <td>0</td>\n",
       "      <td>0</td>\n",
       "      <td>1</td>\n",
       "      <td>1</td>\n",
       "      <td>0</td>\n",
       "      <td>0</td>\n",
       "      <td>0</td>\n",
       "      <td>0</td>\n",
       "      <td>0</td>\n",
       "      <td>1</td>\n",
       "      <td>0</td>\n",
       "      <td>0</td>\n",
       "      <td>0</td>\n",
       "      <td>1</td>\n",
       "      <td>0</td>\n",
       "      <td>0</td>\n",
       "      <td>0</td>\n",
       "      <td>1</td>\n",
       "      <td>0</td>\n",
       "    </tr>\n",
       "  </tbody>\n",
       "</table>\n",
       "</div>"
      ],
      "text/plain": [
       "   age  duration  campaign  pdays  previous  emp.var.rate  cons.price.idx  \\\n",
       "0   56       261         1    999         0           1.1          93.994   \n",
       "1   57       149         1    999         0           1.1          93.994   \n",
       "2   37       226         1    999         0           1.1          93.994   \n",
       "3   40       151         1    999         0           1.1          93.994   \n",
       "4   56       307         1    999         0           1.1          93.994   \n",
       "\n",
       "   cons.conf.idx  euribor3m  nr.employed  y  job_blue-collar  \\\n",
       "0          -36.4      4.857       5191.0  0                0   \n",
       "1          -36.4      4.857       5191.0  0                0   \n",
       "2          -36.4      4.857       5191.0  0                0   \n",
       "3          -36.4      4.857       5191.0  0                0   \n",
       "4          -36.4      4.857       5191.0  0                0   \n",
       "\n",
       "   job_entrepreneur  job_housemaid  job_management  job_retired  \\\n",
       "0                 0              1               0            0   \n",
       "1                 0              0               0            0   \n",
       "2                 0              0               0            0   \n",
       "3                 0              0               0            0   \n",
       "4                 0              0               0            0   \n",
       "\n",
       "   job_self-employed  job_services  job_student  job_technician  \\\n",
       "0                  0             0            0               0   \n",
       "1                  0             1            0               0   \n",
       "2                  0             1            0               0   \n",
       "3                  0             0            0               0   \n",
       "4                  0             1            0               0   \n",
       "\n",
       "   job_unemployed  job_unknown  marital_married  marital_single  \\\n",
       "0               0            0                1               0   \n",
       "1               0            0                1               0   \n",
       "2               0            0                1               0   \n",
       "3               0            0                1               0   \n",
       "4               0            0                1               0   \n",
       "\n",
       "   marital_unknown  education_basic.6y  education_basic.9y  \\\n",
       "0                0                   0                   0   \n",
       "1                0                   0                   0   \n",
       "2                0                   0                   0   \n",
       "3                0                   1                   0   \n",
       "4                0                   0                   0   \n",
       "\n",
       "   education_high.school  education_illiterate  education_professional.course  \\\n",
       "0                      0                     0                              0   \n",
       "1                      1                     0                              0   \n",
       "2                      1                     0                              0   \n",
       "3                      0                     0                              0   \n",
       "4                      1                     0                              0   \n",
       "\n",
       "   education_university.degree  education_unknown  default_unknown  \\\n",
       "0                            0                  0                0   \n",
       "1                            0                  0                1   \n",
       "2                            0                  0                0   \n",
       "3                            0                  0                0   \n",
       "4                            0                  0                0   \n",
       "\n",
       "   default_yes  housing_unknown  housing_yes  loan_unknown  loan_yes  \\\n",
       "0            0                0            0             0         0   \n",
       "1            0                0            0             0         0   \n",
       "2            0                0            1             0         0   \n",
       "3            0                0            0             0         0   \n",
       "4            0                0            0             0         1   \n",
       "\n",
       "   contact_telephone  month_aug  month_dec  month_jul  month_jun  month_mar  \\\n",
       "0                  1          0          0          0          0          0   \n",
       "1                  1          0          0          0          0          0   \n",
       "2                  1          0          0          0          0          0   \n",
       "3                  1          0          0          0          0          0   \n",
       "4                  1          0          0          0          0          0   \n",
       "\n",
       "   month_may  month_nov  month_oct  month_sep  day_of_week_mon  \\\n",
       "0          1          0          0          0                1   \n",
       "1          1          0          0          0                1   \n",
       "2          1          0          0          0                1   \n",
       "3          1          0          0          0                1   \n",
       "4          1          0          0          0                1   \n",
       "\n",
       "   day_of_week_thu  day_of_week_tue  day_of_week_wed  poutcome_nonexistent  \\\n",
       "0                0                0                0                     1   \n",
       "1                0                0                0                     1   \n",
       "2                0                0                0                     1   \n",
       "3                0                0                0                     1   \n",
       "4                0                0                0                     1   \n",
       "\n",
       "   poutcome_success  \n",
       "0                 0  \n",
       "1                 0  \n",
       "2                 0  \n",
       "3                 0  \n",
       "4                 0  "
      ]
     },
     "execution_count": 40,
     "metadata": {},
     "output_type": "execute_result"
    }
   ],
   "source": [
    "#applying One-Hot Encoding\n",
    "df1=pd.get_dummies(df,drop_first=True)\n",
    "df1.head()"
   ]
  },
  {
   "cell_type": "code",
   "execution_count": 41,
   "id": "35518c88",
   "metadata": {},
   "outputs": [
    {
     "data": {
      "text/plain": [
       "(41188, 54)"
      ]
     },
     "execution_count": 41,
     "metadata": {},
     "output_type": "execute_result"
    }
   ],
   "source": [
    "df1.shape"
   ]
  },
  {
   "cell_type": "markdown",
   "id": "ba34177b",
   "metadata": {},
   "source": [
    "## vif "
   ]
  },
  {
   "cell_type": "code",
   "execution_count": 42,
   "id": "ccad9c56",
   "metadata": {},
   "outputs": [],
   "source": [
    "from statsmodels.stats.outliers_influence import variance_inflation_factor"
   ]
  },
  {
   "cell_type": "code",
   "execution_count": 43,
   "id": "8e35530c",
   "metadata": {},
   "outputs": [],
   "source": [
    "#splitting data\n",
    "X=df1.drop('y',axis=1)\n",
    "y=df1['y']"
   ]
  },
  {
   "cell_type": "code",
   "execution_count": 44,
   "id": "f5f78541",
   "metadata": {},
   "outputs": [
    {
     "name": "stdout",
     "output_type": "stream",
     "text": [
      "<class 'pandas.core.frame.DataFrame'>\n",
      "RangeIndex: 41188 entries, 0 to 41187\n",
      "Data columns (total 53 columns):\n",
      " #   Column                         Non-Null Count  Dtype  \n",
      "---  ------                         --------------  -----  \n",
      " 0   age                            41188 non-null  int64  \n",
      " 1   duration                       41188 non-null  int64  \n",
      " 2   campaign                       41188 non-null  int64  \n",
      " 3   pdays                          41188 non-null  int64  \n",
      " 4   previous                       41188 non-null  int64  \n",
      " 5   emp.var.rate                   41188 non-null  float64\n",
      " 6   cons.price.idx                 41188 non-null  float64\n",
      " 7   cons.conf.idx                  41188 non-null  float64\n",
      " 8   euribor3m                      41188 non-null  float64\n",
      " 9   nr.employed                    41188 non-null  float64\n",
      " 10  job_blue-collar                41188 non-null  uint8  \n",
      " 11  job_entrepreneur               41188 non-null  uint8  \n",
      " 12  job_housemaid                  41188 non-null  uint8  \n",
      " 13  job_management                 41188 non-null  uint8  \n",
      " 14  job_retired                    41188 non-null  uint8  \n",
      " 15  job_self-employed              41188 non-null  uint8  \n",
      " 16  job_services                   41188 non-null  uint8  \n",
      " 17  job_student                    41188 non-null  uint8  \n",
      " 18  job_technician                 41188 non-null  uint8  \n",
      " 19  job_unemployed                 41188 non-null  uint8  \n",
      " 20  job_unknown                    41188 non-null  uint8  \n",
      " 21  marital_married                41188 non-null  uint8  \n",
      " 22  marital_single                 41188 non-null  uint8  \n",
      " 23  marital_unknown                41188 non-null  uint8  \n",
      " 24  education_basic.6y             41188 non-null  uint8  \n",
      " 25  education_basic.9y             41188 non-null  uint8  \n",
      " 26  education_high.school          41188 non-null  uint8  \n",
      " 27  education_illiterate           41188 non-null  uint8  \n",
      " 28  education_professional.course  41188 non-null  uint8  \n",
      " 29  education_university.degree    41188 non-null  uint8  \n",
      " 30  education_unknown              41188 non-null  uint8  \n",
      " 31  default_unknown                41188 non-null  uint8  \n",
      " 32  default_yes                    41188 non-null  uint8  \n",
      " 33  housing_unknown                41188 non-null  uint8  \n",
      " 34  housing_yes                    41188 non-null  uint8  \n",
      " 35  loan_unknown                   41188 non-null  uint8  \n",
      " 36  loan_yes                       41188 non-null  uint8  \n",
      " 37  contact_telephone              41188 non-null  uint8  \n",
      " 38  month_aug                      41188 non-null  uint8  \n",
      " 39  month_dec                      41188 non-null  uint8  \n",
      " 40  month_jul                      41188 non-null  uint8  \n",
      " 41  month_jun                      41188 non-null  uint8  \n",
      " 42  month_mar                      41188 non-null  uint8  \n",
      " 43  month_may                      41188 non-null  uint8  \n",
      " 44  month_nov                      41188 non-null  uint8  \n",
      " 45  month_oct                      41188 non-null  uint8  \n",
      " 46  month_sep                      41188 non-null  uint8  \n",
      " 47  day_of_week_mon                41188 non-null  uint8  \n",
      " 48  day_of_week_thu                41188 non-null  uint8  \n",
      " 49  day_of_week_tue                41188 non-null  uint8  \n",
      " 50  day_of_week_wed                41188 non-null  uint8  \n",
      " 51  poutcome_nonexistent           41188 non-null  uint8  \n",
      " 52  poutcome_success               41188 non-null  uint8  \n",
      "dtypes: float64(5), int64(5), uint8(43)\n",
      "memory usage: 4.8 MB\n"
     ]
    }
   ],
   "source": [
    "X.info()"
   ]
  },
  {
   "cell_type": "code",
   "execution_count": 45,
   "id": "6267b666",
   "metadata": {},
   "outputs": [
    {
     "name": "stdout",
     "output_type": "stream",
     "text": [
      "<class 'pandas.core.series.Series'>\n",
      "RangeIndex: 41188 entries, 0 to 41187\n",
      "Series name: y\n",
      "Non-Null Count  Dtype\n",
      "--------------  -----\n",
      "41188 non-null  int64\n",
      "dtypes: int64(1)\n",
      "memory usage: 321.9 KB\n"
     ]
    }
   ],
   "source": [
    "y.info()"
   ]
  },
  {
   "cell_type": "code",
   "execution_count": 46,
   "id": "b68252c2",
   "metadata": {},
   "outputs": [
    {
     "name": "stdout",
     "output_type": "stream",
     "text": [
      "                         features   vif Factor\n",
      "0                             age     26.59757\n",
      "1                        duration      2.02592\n",
      "2                        campaign      1.94918\n",
      "3                           pdays    342.09852\n",
      "4                        previous      6.66829\n",
      "5                    emp.var.rate     93.83749\n",
      "6                  cons.price.idx  64432.80701\n",
      "7                   cons.conf.idx    390.56657\n",
      "8                       euribor3m    788.40154\n",
      "9                     nr.employed  81582.31552\n",
      "10                job_blue-collar      3.11964\n",
      "11               job_entrepreneur      1.18052\n",
      "12                  job_housemaid      1.21673\n",
      "13                 job_management      1.34338\n",
      "14                    job_retired      1.55566\n",
      "15              job_self-employed      1.16131\n",
      "16                   job_services      1.58014\n",
      "17                    job_student      1.22248\n",
      "18                 job_technician      2.10701\n",
      "19                 job_unemployed      1.12852\n",
      "20                    job_unknown      1.08428\n",
      "21                marital_married      6.57365\n",
      "22                 marital_single      4.04126\n",
      "23                marital_unknown      1.02292\n",
      "24             education_basic.6y      1.60425\n",
      "25             education_basic.9y      2.64673\n",
      "26          education_high.school      4.45971\n",
      "27           education_illiterate      1.00538\n",
      "28  education_professional.course      3.10603\n",
      "29    education_university.degree      5.93698\n",
      "30              education_unknown      1.53032\n",
      "31                default_unknown      1.46003\n",
      "32                    default_yes      1.00135\n",
      "33                housing_unknown          inf\n",
      "34                    housing_yes      2.18725\n",
      "35                   loan_unknown          inf\n",
      "36                       loan_yes      1.18850\n",
      "37              contact_telephone      5.18074\n",
      "38                      month_aug      8.20431\n",
      "39                      month_dec      1.14187\n",
      "40                      month_jul      5.44999\n",
      "41                      month_jun      3.78758\n",
      "42                      month_mar      1.25643\n",
      "43                      month_may      7.59998\n",
      "44                      month_nov      3.94729\n",
      "45                      month_oct      1.60148\n",
      "46                      month_sep      1.52008\n",
      "47                day_of_week_mon      2.10125\n",
      "48                day_of_week_thu      2.12051\n",
      "49                day_of_week_tue      2.05742\n",
      "50                day_of_week_wed      2.05741\n",
      "51           poutcome_nonexistent     37.55244\n",
      "52               poutcome_success     11.51797\n"
     ]
    }
   ],
   "source": [
    "vif=pd.DataFrame()\n",
    "vif['features']=X.columns\n",
    "vif['vif Factor']=[variance_inflation_factor(X.values,i)for i in range(X.shape[1])]\n",
    "\n",
    "print(vif.round(decimals=5))"
   ]
  },
  {
   "cell_type": "code",
   "execution_count": 47,
   "id": "ef4e8428",
   "metadata": {},
   "outputs": [],
   "source": [
    "df1.drop(['age','pdays','emp.var.rate','cons.price.idx','cons.conf.idx','euribor3m','nr.employed',\n",
    "         'poutcome_nonexistent'],axis=1,inplace=True)"
   ]
  },
  {
   "cell_type": "code",
   "execution_count": 48,
   "id": "35943548",
   "metadata": {},
   "outputs": [
    {
     "data": {
      "text/plain": [
       "Index(['duration', 'campaign', 'previous', 'y', 'job_blue-collar',\n",
       "       'job_entrepreneur', 'job_housemaid', 'job_management', 'job_retired',\n",
       "       'job_self-employed', 'job_services', 'job_student', 'job_technician',\n",
       "       'job_unemployed', 'job_unknown', 'marital_married', 'marital_single',\n",
       "       'marital_unknown', 'education_basic.6y', 'education_basic.9y',\n",
       "       'education_high.school', 'education_illiterate',\n",
       "       'education_professional.course', 'education_university.degree',\n",
       "       'education_unknown', 'default_unknown', 'default_yes',\n",
       "       'housing_unknown', 'housing_yes', 'loan_unknown', 'loan_yes',\n",
       "       'contact_telephone', 'month_aug', 'month_dec', 'month_jul', 'month_jun',\n",
       "       'month_mar', 'month_may', 'month_nov', 'month_oct', 'month_sep',\n",
       "       'day_of_week_mon', 'day_of_week_thu', 'day_of_week_tue',\n",
       "       'day_of_week_wed', 'poutcome_success'],\n",
       "      dtype='object')"
      ]
     },
     "execution_count": 48,
     "metadata": {},
     "output_type": "execute_result"
    }
   ],
   "source": [
    "df1.columns"
   ]
  },
  {
   "cell_type": "code",
   "execution_count": 49,
   "id": "166b5e95",
   "metadata": {},
   "outputs": [
    {
     "data": {
      "text/plain": [
       "(41188, 46)"
      ]
     },
     "execution_count": 49,
     "metadata": {},
     "output_type": "execute_result"
    }
   ],
   "source": [
    "df1.shape"
   ]
  },
  {
   "cell_type": "markdown",
   "id": "45df220a",
   "metadata": {},
   "source": [
    "## Feature selection"
   ]
  },
  {
   "cell_type": "code",
   "execution_count": 50,
   "id": "fe20044a",
   "metadata": {},
   "outputs": [],
   "source": [
    "from sklearn.ensemble import ExtraTreesClassifier\n",
    "from sklearn.feature_selection import SelectFromModel\n",
    "clf = ExtraTreesClassifier(n_estimators=100)\n",
    "clf = clf.fit(X.values, y)\n",
    "clf.feature_importances_  \n",
    "model = SelectFromModel(clf, prefit=True)\n",
    "X_new = model.transform(X.values)"
   ]
  },
  {
   "cell_type": "code",
   "execution_count": 51,
   "id": "6f73f84e",
   "metadata": {},
   "outputs": [
    {
     "data": {
      "text/plain": [
       "array([[ 56., 261.,   1., ...,   0.,   0.,   0.],\n",
       "       [ 57., 149.,   1., ...,   0.,   0.,   0.],\n",
       "       [ 37., 226.,   1., ...,   1.,   0.,   0.],\n",
       "       ...,\n",
       "       [ 56., 189.,   2., ...,   1.,   0.,   0.],\n",
       "       [ 44., 442.,   1., ...,   0.,   0.,   0.],\n",
       "       [ 74., 239.,   3., ...,   1.,   0.,   0.]])"
      ]
     },
     "execution_count": 51,
     "metadata": {},
     "output_type": "execute_result"
    }
   ],
   "source": [
    "X_new\n"
   ]
  },
  {
   "cell_type": "markdown",
   "id": "7ea6ce4a",
   "metadata": {},
   "source": [
    "## train test split"
   ]
  },
  {
   "cell_type": "code",
   "execution_count": 52,
   "id": "4f5db7b8",
   "metadata": {},
   "outputs": [],
   "source": [
    "from sklearn.model_selection import train_test_split"
   ]
  },
  {
   "cell_type": "code",
   "execution_count": 53,
   "id": "a73aa780",
   "metadata": {},
   "outputs": [],
   "source": [
    "X_train,X_test,y_train,y_test=train_test_split(X_new,y,test_size=0.3,random_state=40)"
   ]
  },
  {
   "cell_type": "markdown",
   "id": "e32808a4",
   "metadata": {},
   "source": [
    "## smote"
   ]
  },
  {
   "cell_type": "code",
   "execution_count": 54,
   "id": "a49792cd",
   "metadata": {},
   "outputs": [],
   "source": [
    "from imblearn.over_sampling import SMOTE"
   ]
  },
  {
   "cell_type": "code",
   "execution_count": 55,
   "id": "a1d62893",
   "metadata": {},
   "outputs": [],
   "source": [
    "sm=SMOTE(sampling_strategy='auto',random_state=40)"
   ]
  },
  {
   "cell_type": "code",
   "execution_count": 56,
   "id": "8373f0e7",
   "metadata": {},
   "outputs": [],
   "source": [
    "X_train,y_train=sm.fit_resample(X_train,y_train)"
   ]
  },
  {
   "cell_type": "code",
   "execution_count": 57,
   "id": "56b6cdc4",
   "metadata": {},
   "outputs": [
    {
     "data": {
      "text/plain": [
       "<AxesSubplot:xlabel='y', ylabel='count'>"
      ]
     },
     "execution_count": 57,
     "metadata": {},
     "output_type": "execute_result"
    },
    {
     "data": {
      "image/png": "[encoded data removed]",
      "text/plain": [
       "<Figure size 432x288 with 1 Axes>"
      ]
     },
     "metadata": {
      "needs_background": "light"
     },
     "output_type": "display_data"
    }
   ],
   "source": [
    "#count plot after resampling\n",
    "sns.countplot(y_train)"
   ]
  },
  {
   "cell_type": "markdown",
   "id": "89c7e79a",
   "metadata": {},
   "source": [
    "## feature scaling"
   ]
  },
  {
   "cell_type": "code",
   "execution_count": 58,
   "id": "332e6b3e",
   "metadata": {},
   "outputs": [],
   "source": [
    "#standard scaling\n",
    "from sklearn.preprocessing import StandardScaler"
   ]
  },
  {
   "cell_type": "code",
   "execution_count": 59,
   "id": "b2c1eeb2",
   "metadata": {},
   "outputs": [],
   "source": [
    "sc=StandardScaler()\n",
    "X_train=sc.fit_transform(X_train)\n",
    "X_test=sc.transform(X_test)"
   ]
  },
  {
   "cell_type": "markdown",
   "id": "4f93ef59",
   "metadata": {},
   "source": [
    "## Modeling"
   ]
  },
  {
   "cell_type": "code",
   "execution_count": 60,
   "id": "11c05a10",
   "metadata": {},
   "outputs": [],
   "source": [
    "#importing different classification models\n",
    "from sklearn.ensemble import RandomForestClassifier\n",
    "from sklearn.neighbors import KNeighborsClassifier\n",
    "from sklearn.svm import SVC\n",
    "from sklearn.naive_bayes import GaussianNB\n",
    "from sklearn.tree import DecisionTreeClassifier\n",
    "from sklearn.linear_model import LogisticRegression\n",
    "from sklearn.model_selection import cross_val_score\n",
    "from sklearn.metrics import confusion_matrix, accuracy_score,f1_score\n",
    "from sklearn.metrics import classification_report\n",
    "from xgboost import XGBClassifier"
   ]
  },
  {
   "cell_type": "code",
   "execution_count": 61,
   "id": "e07ffb0d",
   "metadata": {},
   "outputs": [],
   "source": [
    "## create a new directory to store all the accuracy of the models\n",
    "\n",
    "model_comparison={}"
   ]
  },
  {
   "cell_type": "markdown",
   "id": "1523f9f0",
   "metadata": {},
   "source": [
    "## Logistic Regression"
   ]
  },
  {
   "cell_type": "code",
   "execution_count": 62,
   "id": "8868dd38",
   "metadata": {},
   "outputs": [
    {
     "name": "stdout",
     "output_type": "stream",
     "text": [
      "Model Accuracy : 85.00%\n",
      "Model F1-Score : 83.06%\n",
      "Cross Val Accuracy: 85.82 %\n",
      "Cross Val Standard Deviation: 0.32 %\n",
      "              precision    recall  f1-score   support\n",
      "\n",
      "           0       0.85      0.98      0.91      9487\n",
      "           1       0.85      0.43      0.57      2870\n",
      "\n",
      "    accuracy                           0.85     12357\n",
      "   macro avg       0.85      0.70      0.74     12357\n",
      "weighted avg       0.85      0.85      0.83     12357\n",
      "\n"
     ]
    }
   ],
   "source": [
    "classifier=LogisticRegression()\n",
    "classifier.fit(X_train,y_train)\n",
    "y_pred_1=classifier.predict(X_test)\n",
    "print(f\"Model Accuracy : {accuracy_score(y_pred_1,y_test)*100:.2f}%\")\n",
    "print(f\"Model F1-Score : {f1_score(y_pred_1,y_test,average='weighted')*100:.2f}%\")\n",
    "\n",
    "accuracies = cross_val_score(estimator = classifier, X = X_train, y = y_train, cv = 5,scoring=\"recall\")\n",
    "print(\"Cross Val Accuracy: {:.2f} %\".format(accuracies.mean()*100))\n",
    "print(\"Cross Val Standard Deviation: {:.2f} %\".format(accuracies.std()*100))\n",
    "\n",
    "print(classification_report(y_pred_1,y_test,zero_division=1))\n",
    "model_comparison['Logistic Regression']=[accuracy_score(y_pred_1,y_test),f1_score(y_pred_1,y_test,average='weighted'),(accuracies.mean()),(accuracies.std())]\n"
   ]
  },
  {
   "cell_type": "markdown",
   "id": "54352e66",
   "metadata": {},
   "source": [
    "## Decision Tree"
   ]
  },
  {
   "cell_type": "code",
   "execution_count": 63,
   "id": "b3713ebb",
   "metadata": {},
   "outputs": [],
   "source": [
    "from sklearn.model_selection import RandomizedSearchCV\n",
    "from scipy.stats import randint"
   ]
  },
  {
   "cell_type": "code",
   "execution_count": 64,
   "id": "586721b2",
   "metadata": {},
   "outputs": [],
   "source": [
    "# set parameters\n",
    "param_dist={'max_depth':randint(1,11),\n",
    "          'criterion':['gini','entropy'],\n",
    "           'splitter':['best','random']\n",
    "          }"
   ]
  },
  {
   "cell_type": "code",
   "execution_count": 65,
   "id": "9b92bf87",
   "metadata": {},
   "outputs": [
    {
     "name": "stdout",
     "output_type": "stream",
     "text": [
      "Model Accuracy : 88.63%\n",
      "Model F1-Score : 87.68%\n",
      "Cross Val Accuracy: 85.82 %\n",
      "Cross Val Standard Deviation: 0.32 %\n",
      "              precision    recall  f1-score   support\n",
      "\n",
      "           0       0.90      0.97      0.93     10162\n",
      "           1       0.77      0.51      0.61      2195\n",
      "\n",
      "    accuracy                           0.89     12357\n",
      "   macro avg       0.84      0.74      0.77     12357\n",
      "weighted avg       0.88      0.89      0.88     12357\n",
      "\n"
     ]
    }
   ],
   "source": [
    "dt=DecisionTreeClassifier()\n",
    "random_search = RandomizedSearchCV(dt, param_distributions=param_dist,n_iter=10, cv=5, random_state=0)\n",
    "\n",
    "#fiting using ramdom_search\n",
    "random_search.fit(X_train,y_train)\n",
    "\n",
    "# Make predictions using the best model\n",
    "best_model = random_search.best_estimator_\n",
    "y_pred_2=best_model.predict(X_test)\n",
    "#printing accuracy and f1 score\n",
    "print(f\"Model Accuracy : {accuracy_score(y_pred_2,y_test)*100:.2f}%\")\n",
    "print(f\"Model F1-Score : {f1_score(y_pred_2,y_test,average='weighted')*100:.2f}%\")\n",
    "\n",
    "accuracies = cross_val_score(estimator = classifier, X = X_train, y = y_train, cv = 5,scoring=\"recall\")\n",
    "print(\"Cross Val Accuracy: {:.2f} %\".format(accuracies.mean()*100))\n",
    "print(\"Cross Val Standard Deviation: {:.2f} %\".format(accuracies.std()*100))\n",
    "print(classification_report(y_pred_2,y_test,zero_division=1))\n",
    "model_comparison['Decision Tree']=[accuracy_score(y_pred_2,y_test),f1_score(y_pred_2,y_test,average='weighted'),(accuracies.mean()),(accuracies.std())]"
   ]
  },
  {
   "cell_type": "markdown",
   "id": "bd70ad54",
   "metadata": {},
   "source": [
    "## Random Forest"
   ]
  },
  {
   "cell_type": "code",
   "execution_count": 66,
   "id": "b843fd04",
   "metadata": {},
   "outputs": [
    {
     "data": {
      "text/plain": [
       "RandomizedSearchCV(cv=5, estimator=RandomForestClassifier(random_state=0),\n",
       "                   param_distributions={'n_estimators': <scipy.stats._distn_infrastructure.rv_frozen object at 0x00000295912C8B50>})"
      ]
     },
     "execution_count": 66,
     "metadata": {},
     "output_type": "execute_result"
    }
   ],
   "source": [
    "# Use RandomizedSearchCV to find the best number of estimators\n",
    "rf=RandomForestClassifier(random_state=0)\n",
    "param_distributions = {'n_estimators': randint(1,10)}\n",
    "random_search = RandomizedSearchCV(rf, param_distributions, n_iter=10, cv=5)\n",
    "random_search.fit(X_train, y_train)"
   ]
  },
  {
   "cell_type": "code",
   "execution_count": 67,
   "id": "01466319",
   "metadata": {},
   "outputs": [],
   "source": [
    "# Get the best number of estimators\n",
    "best_n_estimators = random_search.best_params_['n_estimators']\n",
    "\n",
    "# Train the random forest model with the best number of estimators\n",
    "rf = RandomForestClassifier(n_estimators=best_n_estimators, random_state=0)\n",
    "rf.fit(X_train,y_train)\n",
    "y_pred_3=rf.predict(X_test)\n"
   ]
  },
  {
   "cell_type": "code",
   "execution_count": 68,
   "id": "3e663d42",
   "metadata": {},
   "outputs": [
    {
     "name": "stdout",
     "output_type": "stream",
     "text": [
      "Model Accuracy : 89.89%\n",
      "Model F1-Score : 89.88%\n",
      "Cross Val Accuracy: 85.39 %\n",
      "Cross Val Standard Deviation: 0.20 %\n",
      "              precision    recall  f1-score   support\n",
      "\n",
      "           0       0.94      0.94      0.94     10892\n",
      "           1       0.57      0.57      0.57      1465\n",
      "\n",
      "    accuracy                           0.90     12357\n",
      "   macro avg       0.76      0.76      0.76     12357\n",
      "weighted avg       0.90      0.90      0.90     12357\n",
      "\n"
     ]
    }
   ],
   "source": [
    "print(f\"Model Accuracy : {accuracy_score(y_pred_3,y_test)*100:.2f}%\")\n",
    "print(f\"Model F1-Score : {f1_score(y_pred_3,y_test,average='weighted')*100:.2f}%\")\n",
    "accuracies = cross_val_score(estimator = classifier, X = X_train, y = y_train, cv = 5)\n",
    "print(\"Cross Val Accuracy: {:.2f} %\".format(accuracies.mean()*100))\n",
    "print(\"Cross Val Standard Deviation: {:.2f} %\".format(accuracies.std()*100))\n",
    "print(classification_report(y_pred_3,y_test,zero_division=1))\n",
    "model_comparison['Random Forest']=[accuracy_score(y_pred_3,y_test),f1_score(y_pred_3,y_test,average='weighted'),(accuracies.mean()),(accuracies.std())]\n"
   ]
  },
  {
   "cell_type": "markdown",
   "id": "01d1c160",
   "metadata": {},
   "source": [
    "## KNN"
   ]
  },
  {
   "cell_type": "code",
   "execution_count": 69,
   "id": "39570646",
   "metadata": {},
   "outputs": [],
   "source": [
    "# define the hyperparameter search space\n",
    "param_dist = {'n_neighbors': randint(1, 11)}\n",
    "KNN=KNeighborsClassifier()"
   ]
  },
  {
   "cell_type": "code",
   "execution_count": 70,
   "id": "504e286f",
   "metadata": {},
   "outputs": [],
   "source": [
    "# create a random search object\n",
    "random_search = RandomizedSearchCV(KNN, param_distributions=param_dist,cv=5, n_iter=10, random_state=0)\n",
    "# Fit the random search to the training data\n",
    "random_search.fit(X_train,y_train)\n",
    "# Make predictions using the best model\n",
    "best_model = random_search.best_estimator_\n",
    "y_pred_4=best_model.predict(X_test)"
   ]
  },
  {
   "cell_type": "code",
   "execution_count": 71,
   "id": "19dc0dbd",
   "metadata": {},
   "outputs": [
    {
     "name": "stdout",
     "output_type": "stream",
     "text": [
      "Model Accuracy : 87.64%\n",
      "Model F1-Score : 87.35%\n",
      "Cross Val Accuracy: 85.39 %\n",
      "Cross Val Standard Deviation: 0.20 %\n",
      "              precision    recall  f1-score   support\n",
      "\n",
      "           0       0.92      0.94      0.93     10736\n",
      "           1       0.53      0.48      0.50      1621\n",
      "\n",
      "    accuracy                           0.88     12357\n",
      "   macro avg       0.73      0.71      0.72     12357\n",
      "weighted avg       0.87      0.88      0.87     12357\n",
      "\n"
     ]
    }
   ],
   "source": [
    "print(f\"Model Accuracy : {accuracy_score(y_pred_4,y_test)*100:.2f}%\")\n",
    "print(f\"Model F1-Score : {f1_score(y_pred_4,y_test,average='weighted')*100:.2f}%\")\n",
    "accuracies = cross_val_score(estimator = classifier, X = X_train, y = y_train, cv = 5)\n",
    "print(\"Cross Val Accuracy: {:.2f} %\".format(accuracies.mean()*100))\n",
    "print(\"Cross Val Standard Deviation: {:.2f} %\".format(accuracies.std()*100))\n",
    "print(classification_report(y_pred_4,y_test,zero_division=1))\n",
    "model_comparison['KNN']=[accuracy_score(y_pred_4,y_test),f1_score(y_pred_4,y_test,average='weighted'),(accuracies.mean()),(accuracies.std())]"
   ]
  },
  {
   "cell_type": "markdown",
   "id": "b873451d",
   "metadata": {},
   "source": [
    "## Naive Bayes"
   ]
  },
  {
   "cell_type": "code",
   "execution_count": 72,
   "id": "1f08e74e",
   "metadata": {},
   "outputs": [],
   "source": [
    "classifier=GaussianNB()\n",
    "classifier.fit(X_train,y_train)\n",
    "y_pred_5=classifier.predict(X_test)"
   ]
  },
  {
   "cell_type": "code",
   "execution_count": 73,
   "id": "e971043e",
   "metadata": {},
   "outputs": [
    {
     "name": "stdout",
     "output_type": "stream",
     "text": [
      "Model Accuracy : 87.29%\n",
      "Model F1-Score : 86.35%\n",
      "Cross Val Accuracy: 79.64 %\n",
      "Cross Val Standard Deviation: 0.31 %\n",
      "              precision    recall  f1-score   support\n",
      "\n",
      "           0       0.90      0.95      0.93     10275\n",
      "           1       0.68      0.47      0.56      2082\n",
      "\n",
      "    accuracy                           0.87     12357\n",
      "   macro avg       0.79      0.71      0.74     12357\n",
      "weighted avg       0.86      0.87      0.86     12357\n",
      "\n"
     ]
    }
   ],
   "source": [
    "print(f\"Model Accuracy : {accuracy_score(y_pred_5,y_test)*100:.2f}%\")\n",
    "print(f\"Model F1-Score : {f1_score(y_pred_5,y_test,average='weighted')*100:.2f}%\")\n",
    "accuracies = cross_val_score(estimator = classifier, X = X_train, y = y_train, cv = 5)\n",
    "print(\"Cross Val Accuracy: {:.2f} %\".format(accuracies.mean()*100))\n",
    "print(\"Cross Val Standard Deviation: {:.2f} %\".format(accuracies.std()*100))\n",
    "print(classification_report(y_pred_5,y_test,zero_division=1))\n",
    "model_comparison['Naive Bayes']=[accuracy_score(y_pred_5,y_test),f1_score(y_pred_5,y_test,average='weighted'),(accuracies.mean()),(accuracies.std())]"
   ]
  },
  {
   "cell_type": "markdown",
   "id": "8e3165ec",
   "metadata": {},
   "source": [
    "## XGBoost"
   ]
  },
  {
   "cell_type": "code",
   "execution_count": 74,
   "id": "a744a830",
   "metadata": {},
   "outputs": [],
   "source": [
    "classifier = XGBClassifier()\n",
    "classifier.fit(X_train,y_train)\n",
    "y_pred_6=classifier.predict(X_test)"
   ]
  },
  {
   "cell_type": "code",
   "execution_count": 75,
   "id": "2871c701",
   "metadata": {},
   "outputs": [
    {
     "name": "stdout",
     "output_type": "stream",
     "text": [
      "Model Accuracy : 91.09%\n",
      "Model F1-Score : 91.30%\n",
      "Cross Val Accuracy: 92.10 %\n",
      "Cross Val Standard Deviation: 9.73 %\n",
      "              precision    recall  f1-score   support\n",
      "\n",
      "           0       0.96      0.94      0.95     11054\n",
      "           1       0.57      0.64      0.60      1303\n",
      "\n",
      "    accuracy                           0.91     12357\n",
      "   macro avg       0.76      0.79      0.78     12357\n",
      "weighted avg       0.92      0.91      0.91     12357\n",
      "\n"
     ]
    }
   ],
   "source": [
    "print(f\"Model Accuracy : {accuracy_score(y_pred_6,y_test)*100:.2f}%\")\n",
    "print(f\"Model F1-Score : {f1_score(y_pred_6,y_test,average='weighted')*100:.2f}%\")\n",
    "accuracies = cross_val_score(estimator = classifier, X = X_train, y = y_train, cv = 5)\n",
    "print(\"Cross Val Accuracy: {:.2f} %\".format(accuracies.mean()*100))\n",
    "print(\"Cross Val Standard Deviation: {:.2f} %\".format(accuracies.std()*100))\n",
    "print(classification_report(y_pred_6,y_test,zero_division=1))\n",
    "model_comparison['Xg Boost']=[accuracy_score(y_pred_6,y_test),f1_score(y_pred_6,y_test,average='weighted'),(accuracies.mean()),(accuracies.std())]"
   ]
  },
  {
   "cell_type": "markdown",
   "id": "c910f7a5",
   "metadata": {},
   "source": [
    "## ROC curve"
   ]
  },
  {
   "cell_type": "code",
   "execution_count": 76,
   "id": "6bce5727",
   "metadata": {},
   "outputs": [],
   "source": [
    "from sklearn.metrics import roc_curve, auc\n",
    "import matplotlib.pyplot as plt"
   ]
  },
  {
   "cell_type": "code",
   "execution_count": 77,
   "id": "521022fd",
   "metadata": {},
   "outputs": [
    {
     "data": {
      "image/png": "[encoded data removed]",
      "text/plain": [
       "<Figure size 432x288 with 1 Axes>"
      ]
     },
     "metadata": {
      "needs_background": "light"
     },
     "output_type": "display_data"
    }
   ],
   "source": [
    "# Compute ROC curve and ROC area for each classifier\n",
    "fpr1, tpr1, _ = roc_curve(y_test, y_pred_1)\n",
    "roc_auc1 = auc(fpr1, tpr1)\n",
    "\n",
    "fpr2, tpr2, _ = roc_curve(y_test, y_pred_2)\n",
    "roc_auc2 = auc(fpr2, tpr2)\n",
    "\n",
    "fpr3, tpr3, _ = roc_curve(y_test, y_pred_3)\n",
    "roc_auc3 = auc(fpr3, tpr3)\n",
    "\n",
    "fpr4, tpr4, _ = roc_curve(y_test, y_pred_4)\n",
    "roc_auc4 = auc(fpr4, tpr4)\n",
    "\n",
    "fpr5, tpr5, _ = roc_curve(y_test, y_pred_5)\n",
    "roc_auc5 = auc(fpr5, tpr5)\n",
    "\n",
    "fpr6, tpr6, _ = roc_curve(y_test, y_pred_6)\n",
    "roc_auc6 = auc(fpr6, tpr6)\n",
    "\n",
    "# Plot ROC curves for all classifiers\n",
    "plt.figure()\n",
    "plt.plot(fpr1, tpr1, color='darkorange', lw=2, label='Classifier 1 (AUC = %0.2f)' % roc_auc1)\n",
    "plt.plot(fpr2, tpr2, color='green', lw=2, label='Classifier 2 (AUC = %0.2f)' % roc_auc2)\n",
    "plt.plot(fpr3, tpr3, color='blue', lw=2, label='Classifier 3 (AUC = %0.2f)' % roc_auc3)\n",
    "plt.plot(fpr4, tpr4, color='red', lw=2, label='Classifier 4 (AUC = %0.2f)' % roc_auc4)\n",
    "plt.plot(fpr5, tpr5, color='purple', lw=2, label='Classifier 5 (AUC = %0.2f)' % roc_auc5)\n",
    "plt.plot(fpr6, tpr6, color='cyan', lw=2, label='Classifier 6 (AUC = %0.2f)' % roc_auc6)\n",
    "plt.plot([0, 1], [0, 1], color='navy', lw=2, linestyle='--')\n",
    "plt.xlim([0.0, 1.0])\n",
    "plt.ylim([0.0, 1.05])\n",
    "plt.xlabel('False Positive Rate')\n",
    "plt.ylabel('True Positive Rate')\n",
    "plt.title('Receiver operating characteristic')\n",
    "plt.legend(loc=\"lower right\")\n",
    "plt.show()"
   ]
  },
  {
   "cell_type": "code",
   "execution_count": 78,
   "id": "7a7d7774",
   "metadata": {},
   "outputs": [
    {
     "data": {
      "image/png": "[encoded data removed]",
      "text/plain": [
       "<Figure size 432x288 with 1 Axes>"
      ]
     },
     "metadata": {
      "needs_background": "light"
     },
     "output_type": "display_data"
    }
   ],
   "source": [
    "import matplotlib.pyplot as plt\n",
    "from sklearn import metrics\n",
    "\n",
    "# create a figure and axis object\n",
    "fig, ax = plt.subplots()\n",
    "\n",
    "# plot the ROC curves for y_pred_1 to y_pred_6\n",
    "for i, y_pred in enumerate([y_pred_1, y_pred_2, y_pred_3, y_pred_4, y_pred_5, y_pred_6]):\n",
    "    fpr, tpr, thresholds = metrics.roc_curve(y_test, y_pred)\n",
    "    roc_auc = metrics.auc(fpr, tpr)\n",
    "    ax.plot(fpr, tpr, label=f'ROC curve {i+1} (AUC = {roc_auc:.2f})')\n",
    "\n",
    "# plot the diagonal line\n",
    "ax.plot([0, 1], [0, 1], linestyle='--', color='gray', label='Random classifier')\n",
    "\n",
    "# set the title and axis labels\n",
    "ax.set_title('Receiver Operating Characteristic')\n",
    "ax.set_xlabel('False Positive Rate')\n",
    "ax.set_ylabel('True Positive Rate')\n",
    "\n",
    "# set the background color of the plot\n",
    "ax.set_facecolor('white')\n",
    "\n",
    "# add a legend to the plot\n",
    "ax.legend(loc='lower right')\n",
    "\n",
    "# display the plot\n",
    "plt.show()\n",
    "\n"
   ]
  },
  {
   "cell_type": "markdown",
   "id": "0c0e31ce",
   "metadata": {},
   "source": [
    "## Models comparison"
   ]
  },
  {
   "cell_type": "code",
   "execution_count": 79,
   "id": "703b6777",
   "metadata": {},
   "outputs": [
    {
     "data": {
      "text/html": [
       "<style type=\"text/css\">\n",
       "#T_9c89c_row0_col0, #T_9c89c_row0_col1, #T_9c89c_row0_col2, #T_9c89c_row0_col3 {\n",
       "  background-color: #00441b;\n",
       "  color: #f1f1f1;\n",
       "}\n",
       "#T_9c89c_row1_col0 {\n",
       "  background-color: #147e3a;\n",
       "  color: #f1f1f1;\n",
       "}\n",
       "#T_9c89c_row1_col1 {\n",
       "  background-color: #0d7836;\n",
       "  color: #f1f1f1;\n",
       "}\n",
       "#T_9c89c_row1_col2, #T_9c89c_row3_col2 {\n",
       "  background-color: #81ca81;\n",
       "  color: #000000;\n",
       "}\n",
       "#T_9c89c_row1_col3, #T_9c89c_row3_col3, #T_9c89c_row4_col2, #T_9c89c_row5_col0, #T_9c89c_row5_col1 {\n",
       "  background-color: #f7fcf5;\n",
       "  color: #000000;\n",
       "}\n",
       "#T_9c89c_row2_col0 {\n",
       "  background-color: #4db163;\n",
       "  color: #f1f1f1;\n",
       "}\n",
       "#T_9c89c_row2_col1 {\n",
       "  background-color: #5bb86a;\n",
       "  color: #f1f1f1;\n",
       "}\n",
       "#T_9c89c_row2_col2, #T_9c89c_row5_col2 {\n",
       "  background-color: #75c477;\n",
       "  color: #000000;\n",
       "}\n",
       "#T_9c89c_row2_col3, #T_9c89c_row4_col3, #T_9c89c_row5_col3 {\n",
       "  background-color: #f5fbf3;\n",
       "  color: #000000;\n",
       "}\n",
       "#T_9c89c_row3_col0 {\n",
       "  background-color: #8bcf89;\n",
       "  color: #000000;\n",
       "}\n",
       "#T_9c89c_row3_col1 {\n",
       "  background-color: #6bc072;\n",
       "  color: #000000;\n",
       "}\n",
       "#T_9c89c_row4_col0 {\n",
       "  background-color: #a0d99b;\n",
       "  color: #000000;\n",
       "}\n",
       "#T_9c89c_row4_col1 {\n",
       "  background-color: #98d594;\n",
       "  color: #000000;\n",
       "}\n",
       "</style>\n",
       "<table id=\"T_9c89c\">\n",
       "  <thead>\n",
       "    <tr>\n",
       "      <th class=\"blank level0\" >&nbsp;</th>\n",
       "      <th id=\"T_9c89c_level0_col0\" class=\"col_heading level0 col0\" >Model Accuracy</th>\n",
       "      <th id=\"T_9c89c_level0_col1\" class=\"col_heading level0 col1\" >Model F1-Score</th>\n",
       "      <th id=\"T_9c89c_level0_col2\" class=\"col_heading level0 col2\" >CV Accuracy</th>\n",
       "      <th id=\"T_9c89c_level0_col3\" class=\"col_heading level0 col3\" >CV Standard Deviation</th>\n",
       "    </tr>\n",
       "  </thead>\n",
       "  <tbody>\n",
       "    <tr>\n",
       "      <th id=\"T_9c89c_level0_row0\" class=\"row_heading level0 row0\" >Xg Boost</th>\n",
       "      <td id=\"T_9c89c_row0_col0\" class=\"data row0 col0\" >91.09%</td>\n",
       "      <td id=\"T_9c89c_row0_col1\" class=\"data row0 col1\" >91.30%</td>\n",
       "      <td id=\"T_9c89c_row0_col2\" class=\"data row0 col2\" >92.10%</td>\n",
       "      <td id=\"T_9c89c_row0_col3\" class=\"data row0 col3\" >9.73%</td>\n",
       "    </tr>\n",
       "    <tr>\n",
       "      <th id=\"T_9c89c_level0_row1\" class=\"row_heading level0 row1\" >Random Forest</th>\n",
       "      <td id=\"T_9c89c_row1_col0\" class=\"data row1 col0\" >89.89%</td>\n",
       "      <td id=\"T_9c89c_row1_col1\" class=\"data row1 col1\" >89.88%</td>\n",
       "      <td id=\"T_9c89c_row1_col2\" class=\"data row1 col2\" >85.39%</td>\n",
       "      <td id=\"T_9c89c_row1_col3\" class=\"data row1 col3\" >0.20%</td>\n",
       "    </tr>\n",
       "    <tr>\n",
       "      <th id=\"T_9c89c_level0_row2\" class=\"row_heading level0 row2\" >Decision Tree</th>\n",
       "      <td id=\"T_9c89c_row2_col0\" class=\"data row2 col0\" >88.63%</td>\n",
       "      <td id=\"T_9c89c_row2_col1\" class=\"data row2 col1\" >87.68%</td>\n",
       "      <td id=\"T_9c89c_row2_col2\" class=\"data row2 col2\" >85.82%</td>\n",
       "      <td id=\"T_9c89c_row2_col3\" class=\"data row2 col3\" >0.32%</td>\n",
       "    </tr>\n",
       "    <tr>\n",
       "      <th id=\"T_9c89c_level0_row3\" class=\"row_heading level0 row3\" >KNN</th>\n",
       "      <td id=\"T_9c89c_row3_col0\" class=\"data row3 col0\" >87.64%</td>\n",
       "      <td id=\"T_9c89c_row3_col1\" class=\"data row3 col1\" >87.35%</td>\n",
       "      <td id=\"T_9c89c_row3_col2\" class=\"data row3 col2\" >85.39%</td>\n",
       "      <td id=\"T_9c89c_row3_col3\" class=\"data row3 col3\" >0.20%</td>\n",
       "    </tr>\n",
       "    <tr>\n",
       "      <th id=\"T_9c89c_level0_row4\" class=\"row_heading level0 row4\" >Naive Bayes</th>\n",
       "      <td id=\"T_9c89c_row4_col0\" class=\"data row4 col0\" >87.29%</td>\n",
       "      <td id=\"T_9c89c_row4_col1\" class=\"data row4 col1\" >86.35%</td>\n",
       "      <td id=\"T_9c89c_row4_col2\" class=\"data row4 col2\" >79.64%</td>\n",
       "      <td id=\"T_9c89c_row4_col3\" class=\"data row4 col3\" >0.31%</td>\n",
       "    </tr>\n",
       "    <tr>\n",
       "      <th id=\"T_9c89c_level0_row5\" class=\"row_heading level0 row5\" >Logistic Regression</th>\n",
       "      <td id=\"T_9c89c_row5_col0\" class=\"data row5 col0\" >85.00%</td>\n",
       "      <td id=\"T_9c89c_row5_col1\" class=\"data row5 col1\" >83.06%</td>\n",
       "      <td id=\"T_9c89c_row5_col2\" class=\"data row5 col2\" >85.82%</td>\n",
       "      <td id=\"T_9c89c_row5_col3\" class=\"data row5 col3\" >0.32%</td>\n",
       "    </tr>\n",
       "  </tbody>\n",
       "</table>\n"
      ],
      "text/plain": [
       "<pandas.io.formats.style.Styler at 0x29591c6e910>"
      ]
     },
     "execution_count": 79,
     "metadata": {},
     "output_type": "execute_result"
    }
   ],
   "source": [
    "model_com_df=pd.DataFrame(model_comparison).T\n",
    "model_com_df.columns=['Model Accuracy','Model F1-Score','CV Accuracy','CV Standard Deviation']\n",
    "model_com_df=model_com_df.sort_values(by='Model F1-Score',ascending=False)\n",
    "model_com_df.style.format('{:.2%}').background_gradient(cmap='Greens')\n"
   ]
  },
  {
   "cell_type": "code",
   "execution_count": 80,
   "id": "3bf60d3f",
   "metadata": {},
   "outputs": [
    {
     "data": {
      "text/html": [
       "<style type=\"text/css\">\n",
       "#T_06da8_row0_col0, #T_06da8_row0_col1, #T_06da8_row0_col2, #T_06da8_row0_col3 {\n",
       "  background-color: yellow;\n",
       "}\n",
       "</style>\n",
       "<table id=\"T_06da8\">\n",
       "  <caption>Maximum Score in each Column</caption>\n",
       "  <thead>\n",
       "    <tr>\n",
       "      <th class=\"blank level0\" >&nbsp;</th>\n",
       "      <th id=\"T_06da8_level0_col0\" class=\"col_heading level0 col0\" >Model Accuracy</th>\n",
       "      <th id=\"T_06da8_level0_col1\" class=\"col_heading level0 col1\" >Model F1-Score</th>\n",
       "      <th id=\"T_06da8_level0_col2\" class=\"col_heading level0 col2\" >CV Accuracy</th>\n",
       "      <th id=\"T_06da8_level0_col3\" class=\"col_heading level0 col3\" >CV Standard Deviation</th>\n",
       "    </tr>\n",
       "  </thead>\n",
       "  <tbody>\n",
       "    <tr>\n",
       "      <th id=\"T_06da8_level0_row0\" class=\"row_heading level0 row0\" >Xg Boost</th>\n",
       "      <td id=\"T_06da8_row0_col0\" class=\"data row0 col0\" >91.09%</td>\n",
       "      <td id=\"T_06da8_row0_col1\" class=\"data row0 col1\" >91.30%</td>\n",
       "      <td id=\"T_06da8_row0_col2\" class=\"data row0 col2\" >92.10%</td>\n",
       "      <td id=\"T_06da8_row0_col3\" class=\"data row0 col3\" >9.73%</td>\n",
       "    </tr>\n",
       "    <tr>\n",
       "      <th id=\"T_06da8_level0_row1\" class=\"row_heading level0 row1\" >Random Forest</th>\n",
       "      <td id=\"T_06da8_row1_col0\" class=\"data row1 col0\" >89.89%</td>\n",
       "      <td id=\"T_06da8_row1_col1\" class=\"data row1 col1\" >89.88%</td>\n",
       "      <td id=\"T_06da8_row1_col2\" class=\"data row1 col2\" >85.39%</td>\n",
       "      <td id=\"T_06da8_row1_col3\" class=\"data row1 col3\" >0.20%</td>\n",
       "    </tr>\n",
       "    <tr>\n",
       "      <th id=\"T_06da8_level0_row2\" class=\"row_heading level0 row2\" >Decision Tree</th>\n",
       "      <td id=\"T_06da8_row2_col0\" class=\"data row2 col0\" >88.63%</td>\n",
       "      <td id=\"T_06da8_row2_col1\" class=\"data row2 col1\" >87.68%</td>\n",
       "      <td id=\"T_06da8_row2_col2\" class=\"data row2 col2\" >85.82%</td>\n",
       "      <td id=\"T_06da8_row2_col3\" class=\"data row2 col3\" >0.32%</td>\n",
       "    </tr>\n",
       "    <tr>\n",
       "      <th id=\"T_06da8_level0_row3\" class=\"row_heading level0 row3\" >KNN</th>\n",
       "      <td id=\"T_06da8_row3_col0\" class=\"data row3 col0\" >87.64%</td>\n",
       "      <td id=\"T_06da8_row3_col1\" class=\"data row3 col1\" >87.35%</td>\n",
       "      <td id=\"T_06da8_row3_col2\" class=\"data row3 col2\" >85.39%</td>\n",
       "      <td id=\"T_06da8_row3_col3\" class=\"data row3 col3\" >0.20%</td>\n",
       "    </tr>\n",
       "    <tr>\n",
       "      <th id=\"T_06da8_level0_row4\" class=\"row_heading level0 row4\" >Naive Bayes</th>\n",
       "      <td id=\"T_06da8_row4_col0\" class=\"data row4 col0\" >87.29%</td>\n",
       "      <td id=\"T_06da8_row4_col1\" class=\"data row4 col1\" >86.35%</td>\n",
       "      <td id=\"T_06da8_row4_col2\" class=\"data row4 col2\" >79.64%</td>\n",
       "      <td id=\"T_06da8_row4_col3\" class=\"data row4 col3\" >0.31%</td>\n",
       "    </tr>\n",
       "    <tr>\n",
       "      <th id=\"T_06da8_level0_row5\" class=\"row_heading level0 row5\" >Logistic Regression</th>\n",
       "      <td id=\"T_06da8_row5_col0\" class=\"data row5 col0\" >85.00%</td>\n",
       "      <td id=\"T_06da8_row5_col1\" class=\"data row5 col1\" >83.06%</td>\n",
       "      <td id=\"T_06da8_row5_col2\" class=\"data row5 col2\" >85.82%</td>\n",
       "      <td id=\"T_06da8_row5_col3\" class=\"data row5 col3\" >0.32%</td>\n",
       "    </tr>\n",
       "  </tbody>\n",
       "</table>\n"
      ],
      "text/plain": [
       "<pandas.io.formats.style.Styler at 0x29591c6eca0>"
      ]
     },
     "execution_count": 80,
     "metadata": {},
     "output_type": "execute_result"
    }
   ],
   "source": [
    "## maximum accuracies in each column\n",
    "model_com_df.style.highlight_max().set_caption(\"Maximum Score in each Column\").format(\"{:.2%}\")"
   ]
  },
  {
   "cell_type": "code",
   "execution_count": 81,
   "id": "9d41e728",
   "metadata": {},
   "outputs": [
    {
     "data": {
      "text/html": [
       "<style type=\"text/css\">\n",
       "#T_a9cad_row1_col3, #T_a9cad_row3_col3, #T_a9cad_row4_col2, #T_a9cad_row5_col0, #T_a9cad_row5_col1 {\n",
       "  background-color: yellow;\n",
       "}\n",
       "</style>\n",
       "<table id=\"T_a9cad\">\n",
       "  <caption>Minimum Score in each Column</caption>\n",
       "  <thead>\n",
       "    <tr>\n",
       "      <th class=\"blank level0\" >&nbsp;</th>\n",
       "      <th id=\"T_a9cad_level0_col0\" class=\"col_heading level0 col0\" >Model Accuracy</th>\n",
       "      <th id=\"T_a9cad_level0_col1\" class=\"col_heading level0 col1\" >Model F1-Score</th>\n",
       "      <th id=\"T_a9cad_level0_col2\" class=\"col_heading level0 col2\" >CV Accuracy</th>\n",
       "      <th id=\"T_a9cad_level0_col3\" class=\"col_heading level0 col3\" >CV Standard Deviation</th>\n",
       "    </tr>\n",
       "  </thead>\n",
       "  <tbody>\n",
       "    <tr>\n",
       "      <th id=\"T_a9cad_level0_row0\" class=\"row_heading level0 row0\" >Xg Boost</th>\n",
       "      <td id=\"T_a9cad_row0_col0\" class=\"data row0 col0\" >91.09%</td>\n",
       "      <td id=\"T_a9cad_row0_col1\" class=\"data row0 col1\" >91.30%</td>\n",
       "      <td id=\"T_a9cad_row0_col2\" class=\"data row0 col2\" >92.10%</td>\n",
       "      <td id=\"T_a9cad_row0_col3\" class=\"data row0 col3\" >9.73%</td>\n",
       "    </tr>\n",
       "    <tr>\n",
       "      <th id=\"T_a9cad_level0_row1\" class=\"row_heading level0 row1\" >Random Forest</th>\n",
       "      <td id=\"T_a9cad_row1_col0\" class=\"data row1 col0\" >89.89%</td>\n",
       "      <td id=\"T_a9cad_row1_col1\" class=\"data row1 col1\" >89.88%</td>\n",
       "      <td id=\"T_a9cad_row1_col2\" class=\"data row1 col2\" >85.39%</td>\n",
       "      <td id=\"T_a9cad_row1_col3\" class=\"data row1 col3\" >0.20%</td>\n",
       "    </tr>\n",
       "    <tr>\n",
       "      <th id=\"T_a9cad_level0_row2\" class=\"row_heading level0 row2\" >Decision Tree</th>\n",
       "      <td id=\"T_a9cad_row2_col0\" class=\"data row2 col0\" >88.63%</td>\n",
       "      <td id=\"T_a9cad_row2_col1\" class=\"data row2 col1\" >87.68%</td>\n",
       "      <td id=\"T_a9cad_row2_col2\" class=\"data row2 col2\" >85.82%</td>\n",
       "      <td id=\"T_a9cad_row2_col3\" class=\"data row2 col3\" >0.32%</td>\n",
       "    </tr>\n",
       "    <tr>\n",
       "      <th id=\"T_a9cad_level0_row3\" class=\"row_heading level0 row3\" >KNN</th>\n",
       "      <td id=\"T_a9cad_row3_col0\" class=\"data row3 col0\" >87.64%</td>\n",
       "      <td id=\"T_a9cad_row3_col1\" class=\"data row3 col1\" >87.35%</td>\n",
       "      <td id=\"T_a9cad_row3_col2\" class=\"data row3 col2\" >85.39%</td>\n",
       "      <td id=\"T_a9cad_row3_col3\" class=\"data row3 col3\" >0.20%</td>\n",
       "    </tr>\n",
       "    <tr>\n",
       "      <th id=\"T_a9cad_level0_row4\" class=\"row_heading level0 row4\" >Naive Bayes</th>\n",
       "      <td id=\"T_a9cad_row4_col0\" class=\"data row4 col0\" >87.29%</td>\n",
       "      <td id=\"T_a9cad_row4_col1\" class=\"data row4 col1\" >86.35%</td>\n",
       "      <td id=\"T_a9cad_row4_col2\" class=\"data row4 col2\" >79.64%</td>\n",
       "      <td id=\"T_a9cad_row4_col3\" class=\"data row4 col3\" >0.31%</td>\n",
       "    </tr>\n",
       "    <tr>\n",
       "      <th id=\"T_a9cad_level0_row5\" class=\"row_heading level0 row5\" >Logistic Regression</th>\n",
       "      <td id=\"T_a9cad_row5_col0\" class=\"data row5 col0\" >85.00%</td>\n",
       "      <td id=\"T_a9cad_row5_col1\" class=\"data row5 col1\" >83.06%</td>\n",
       "      <td id=\"T_a9cad_row5_col2\" class=\"data row5 col2\" >85.82%</td>\n",
       "      <td id=\"T_a9cad_row5_col3\" class=\"data row5 col3\" >0.32%</td>\n",
       "    </tr>\n",
       "  </tbody>\n",
       "</table>\n"
      ],
      "text/plain": [
       "<pandas.io.formats.style.Styler at 0x29591c523a0>"
      ]
     },
     "execution_count": 81,
     "metadata": {},
     "output_type": "execute_result"
    }
   ],
   "source": [
    "# minimum accuracies in each column\n",
    "model_com_df.style.highlight_min().set_caption(\"Minimum Score in each Column\").format(\"{:.2%}\")"
   ]
  },
  {
   "cell_type": "markdown",
   "id": "7b16fc32",
   "metadata": {},
   "source": [
    "## Comparing real and predicted value"
   ]
  },
  {
   "cell_type": "code",
   "execution_count": 82,
   "id": "4a27031a",
   "metadata": {},
   "outputs": [
    {
     "data": {
      "text/html": [
       "<div>\n",
       "<style scoped>\n",
       "    .dataframe tbody tr th:only-of-type {\n",
       "        vertical-align: middle;\n",
       "    }\n",
       "\n",
       "    .dataframe tbody tr th {\n",
       "        vertical-align: top;\n",
       "    }\n",
       "\n",
       "    .dataframe thead th {\n",
       "        text-align: right;\n",
       "    }\n",
       "</style>\n",
       "<table border=\"1\" class=\"dataframe\">\n",
       "  <thead>\n",
       "    <tr style=\"text-align: right;\">\n",
       "      <th></th>\n",
       "      <th>Estimated y</th>\n",
       "    </tr>\n",
       "  </thead>\n",
       "  <tbody>\n",
       "    <tr>\n",
       "      <th>0</th>\n",
       "      <td>0</td>\n",
       "    </tr>\n",
       "    <tr>\n",
       "      <th>1</th>\n",
       "      <td>0</td>\n",
       "    </tr>\n",
       "    <tr>\n",
       "      <th>2</th>\n",
       "      <td>0</td>\n",
       "    </tr>\n",
       "    <tr>\n",
       "      <th>3</th>\n",
       "      <td>0</td>\n",
       "    </tr>\n",
       "    <tr>\n",
       "      <th>4</th>\n",
       "      <td>0</td>\n",
       "    </tr>\n",
       "  </tbody>\n",
       "</table>\n",
       "</div>"
      ],
      "text/plain": [
       "   Estimated y\n",
       "0            0\n",
       "1            0\n",
       "2            0\n",
       "3            0\n",
       "4            0"
      ]
     },
     "execution_count": 82,
     "metadata": {},
     "output_type": "execute_result"
    }
   ],
   "source": [
    "# Result\n",
    "predicted=pd.DataFrame(y_pred_6,columns=['Estimated y'])\n",
    "predicted.head(5)"
   ]
  },
  {
   "cell_type": "code",
   "execution_count": 83,
   "id": "9b238ff6",
   "metadata": {},
   "outputs": [
    {
     "data": {
      "text/html": [
       "<div>\n",
       "<style scoped>\n",
       "    .dataframe tbody tr th:only-of-type {\n",
       "        vertical-align: middle;\n",
       "    }\n",
       "\n",
       "    .dataframe tbody tr th {\n",
       "        vertical-align: top;\n",
       "    }\n",
       "\n",
       "    .dataframe thead th {\n",
       "        text-align: right;\n",
       "    }\n",
       "</style>\n",
       "<table border=\"1\" class=\"dataframe\">\n",
       "  <thead>\n",
       "    <tr style=\"text-align: right;\">\n",
       "      <th></th>\n",
       "      <th>y</th>\n",
       "    </tr>\n",
       "  </thead>\n",
       "  <tbody>\n",
       "    <tr>\n",
       "      <th>0</th>\n",
       "      <td>1</td>\n",
       "    </tr>\n",
       "    <tr>\n",
       "      <th>1</th>\n",
       "      <td>0</td>\n",
       "    </tr>\n",
       "    <tr>\n",
       "      <th>2</th>\n",
       "      <td>0</td>\n",
       "    </tr>\n",
       "    <tr>\n",
       "      <th>3</th>\n",
       "      <td>0</td>\n",
       "    </tr>\n",
       "    <tr>\n",
       "      <th>4</th>\n",
       "      <td>0</td>\n",
       "    </tr>\n",
       "  </tbody>\n",
       "</table>\n",
       "</div>"
      ],
      "text/plain": [
       "   y\n",
       "0  1\n",
       "1  0\n",
       "2  0\n",
       "3  0\n",
       "4  0"
      ]
     },
     "execution_count": 83,
     "metadata": {},
     "output_type": "execute_result"
    }
   ],
   "source": [
    "original = pd.DataFrame(y_test)\n",
    "original = original.reset_index(drop=True)\n",
    "original.head()"
   ]
  },
  {
   "cell_type": "code",
   "execution_count": 84,
   "id": "5e39b7fa",
   "metadata": {},
   "outputs": [
    {
     "data": {
      "text/html": [
       "<div>\n",
       "<style scoped>\n",
       "    .dataframe tbody tr th:only-of-type {\n",
       "        vertical-align: middle;\n",
       "    }\n",
       "\n",
       "    .dataframe tbody tr th {\n",
       "        vertical-align: top;\n",
       "    }\n",
       "\n",
       "    .dataframe thead th {\n",
       "        text-align: right;\n",
       "    }\n",
       "</style>\n",
       "<table border=\"1\" class=\"dataframe\">\n",
       "  <thead>\n",
       "    <tr style=\"text-align: right;\">\n",
       "      <th></th>\n",
       "      <th>y</th>\n",
       "      <th>Estimated y</th>\n",
       "    </tr>\n",
       "  </thead>\n",
       "  <tbody>\n",
       "    <tr>\n",
       "      <th>0</th>\n",
       "      <td>1</td>\n",
       "      <td>0</td>\n",
       "    </tr>\n",
       "    <tr>\n",
       "      <th>1</th>\n",
       "      <td>0</td>\n",
       "      <td>0</td>\n",
       "    </tr>\n",
       "    <tr>\n",
       "      <th>2</th>\n",
       "      <td>0</td>\n",
       "      <td>0</td>\n",
       "    </tr>\n",
       "    <tr>\n",
       "      <th>3</th>\n",
       "      <td>0</td>\n",
       "      <td>0</td>\n",
       "    </tr>\n",
       "    <tr>\n",
       "      <th>4</th>\n",
       "      <td>0</td>\n",
       "      <td>0</td>\n",
       "    </tr>\n",
       "    <tr>\n",
       "      <th>...</th>\n",
       "      <td>...</td>\n",
       "      <td>...</td>\n",
       "    </tr>\n",
       "    <tr>\n",
       "      <th>12352</th>\n",
       "      <td>0</td>\n",
       "      <td>0</td>\n",
       "    </tr>\n",
       "    <tr>\n",
       "      <th>12353</th>\n",
       "      <td>1</td>\n",
       "      <td>1</td>\n",
       "    </tr>\n",
       "    <tr>\n",
       "      <th>12354</th>\n",
       "      <td>0</td>\n",
       "      <td>0</td>\n",
       "    </tr>\n",
       "    <tr>\n",
       "      <th>12355</th>\n",
       "      <td>0</td>\n",
       "      <td>0</td>\n",
       "    </tr>\n",
       "    <tr>\n",
       "      <th>12356</th>\n",
       "      <td>0</td>\n",
       "      <td>0</td>\n",
       "    </tr>\n",
       "  </tbody>\n",
       "</table>\n",
       "<p>12357 rows × 2 columns</p>\n",
       "</div>"
      ],
      "text/plain": [
       "       y  Estimated y\n",
       "0      1            0\n",
       "1      0            0\n",
       "2      0            0\n",
       "3      0            0\n",
       "4      0            0\n",
       "...   ..          ...\n",
       "12352  0            0\n",
       "12353  1            1\n",
       "12354  0            0\n",
       "12355  0            0\n",
       "12356  0            0\n",
       "\n",
       "[12357 rows x 2 columns]"
      ]
     },
     "execution_count": 84,
     "metadata": {},
     "output_type": "execute_result"
    }
   ],
   "source": [
    "Result=pd.concat([original,predicted],axis=1)\n",
    "Result"
   ]
  },
  {
   "cell_type": "markdown",
   "id": "1a0bd93f",
   "metadata": {},
   "source": [
    "## ploting Result"
   ]
  },
  {
   "cell_type": "code",
   "execution_count": 85,
   "id": "85cb4f0b",
   "metadata": {},
   "outputs": [],
   "source": [
    "# generate some example data for y_test and y_pred_6\n",
    "y_test = pd.Series(np.random.randint(0,2,20))\n",
    "y_pred_6 = pd.Series(np.random.randint(0,2,20))"
   ]
  },
  {
   "cell_type": "code",
   "execution_count": 91,
   "id": "99dd8768",
   "metadata": {},
   "outputs": [
    {
     "data": {
      "image/png": "[encoded data removed]",
      "text/plain": [
       "<Figure size 432x288 with 1 Axes>"
      ]
     },
     "metadata": {
      "needs_background": "light"
     },
     "output_type": "display_data"
    }
   ],
   "source": [
    "# convert Pandas Series objects to NumPy arrays and flatten them\n",
    "y_test_arr = y_test.to_numpy().flatten()\n",
    "y_pred_6_arr = y_pred_6.to_numpy().flatten()\n",
    "\n",
    "# create a new Pandas DataFrame using the flattened arrays\n",
    "df1 = pd.DataFrame({'Actual': y_test_arr, 'Predicted': y_pred_6_arr})\n",
    "\n",
    "# plot the DataFrame as a bar chart\n",
    "df1.plot(kind='bar')\n",
    "plt.rcParams['axes.facecolor'] = 'grey'\n",
    "plt.grid(which='major', linestyle='-', linewidth='0.5', color='green')\n",
    "plt.grid(which='minor', linestyle=':', linewidth='0.5', color='black')\n",
    "plt.show()"
   ]
  },
  {
   "cell_type": "code",
   "execution_count": null,
   "id": "9f57da1c",
   "metadata": {},
   "outputs": [],
   "source": []
  },
  {
   "cell_type": "code",
   "execution_count": null,
   "id": "1e4e90d2",
   "metadata": {},
   "outputs": [],
   "source": []
  },
  {
   "cell_type": "code",
   "execution_count": null,
   "id": "e695ba01",
   "metadata": {},
   "outputs": [],
   "source": []
  },
  {
   "cell_type": "code",
   "execution_count": null,
   "id": "2b0218a2",
   "metadata": {},
   "outputs": [],
   "source": []
  },
  {
   "cell_type": "code",
   "execution_count": null,
   "id": "4a9b89bc",
   "metadata": {},
   "outputs": [],
   "source": []
  },
  {
   "cell_type": "code",
   "execution_count": null,
   "id": "e2563359",
   "metadata": {},
   "outputs": [],
   "source": []
  },
  {
   "cell_type": "code",
   "execution_count": null,
   "id": "f93e552d",
   "metadata": {},
   "outputs": [],
   "source": []
  }
 ],
 "metadata": {
  "kernelspec": {
   "display_name": "Python 3 (ipykernel)",
   "language": "python",
   "name": "python3"
  },
  "language_info": {
   "codemirror_mode": {
    "name": "ipython",
    "version": 3
   },
   "file_extension": ".py",
   "mimetype": "text/x-python",
   "name": "python",
   "nbconvert_exporter": "python",
   "pygments_lexer": "ipython3",
   "version": "3.10.9"
  }
 },
 "nbformat": 4,
 "nbformat_minor": 5
}
